{
 "cells": [
  {
   "cell_type": "code",
   "execution_count": 1,
   "metadata": {},
   "outputs": [
    {
     "name": "stdout",
     "output_type": "stream",
     "text": [
      "load from:  /root/autoencoder_denoiser/exps/results_bitmap/match_hist/latest_model.pt\n",
      "model :UNet\n",
      "using Byeol's real imgs: normal noise\n"
     ]
    }
   ],
   "source": [
    "from testing_real_imgs import test_loader, test_thresholding"
   ]
  },
  {
   "cell_type": "code",
   "execution_count": 5,
   "metadata": {},
   "outputs": [
    {
     "name": "stdout",
     "output_type": "stream",
     "text": [
      "curr threshold is 0\n"
     ]
    },
    {
     "name": "stderr",
     "output_type": "stream",
     "text": [
      "100%|██████████| 59/59 [00:58<00:00,  1.00it/s]\n"
     ]
    },
    {
     "name": "stdout",
     "output_type": "stream",
     "text": [
      "test loader size: 59\n",
      "loss of model: thresholding is 0.0\n",
      "snr of model: thresholding is inf\n",
      "\n",
      "\n",
      "\n",
      "curr threshold is 0.3\n"
     ]
    },
    {
     "name": "stderr",
     "output_type": "stream",
     "text": [
      "100%|██████████| 59/59 [01:00<00:00,  1.03s/it]\n"
     ]
    },
    {
     "name": "stdout",
     "output_type": "stream",
     "text": [
      "test loader size: 59\n",
      "loss of model: thresholding is 3.3302040100097656\n",
      "snr of model: thresholding is 119.40232810327562\n",
      "\n",
      "\n",
      "\n",
      "curr threshold is 0.35\n"
     ]
    },
    {
     "name": "stderr",
     "output_type": "stream",
     "text": [
      "100%|██████████| 59/59 [01:00<00:00,  1.02s/it]\n"
     ]
    },
    {
     "name": "stdout",
     "output_type": "stream",
     "text": [
      "test loader size: 59\n",
      "loss of model: thresholding is 4.881707191467285\n",
      "snr of model: thresholding is 97.09083162728002\n",
      "\n",
      "\n",
      "\n",
      "curr threshold is 0.4\n"
     ]
    },
    {
     "name": "stderr",
     "output_type": "stream",
     "text": [
      "100%|██████████| 59/59 [01:01<00:00,  1.04s/it]\n"
     ]
    },
    {
     "name": "stdout",
     "output_type": "stream",
     "text": [
      "test loader size: 59\n",
      "loss of model: thresholding is 7.197181701660156\n",
      "snr of model: thresholding is 82.54863396337477\n",
      "\n",
      "\n",
      "\n",
      "curr threshold is 0.45\n"
     ]
    },
    {
     "name": "stderr",
     "output_type": "stream",
     "text": [
      "100%|██████████| 59/59 [00:59<00:00,  1.01s/it]\n"
     ]
    },
    {
     "name": "stdout",
     "output_type": "stream",
     "text": [
      "test loader size: 59\n",
      "loss of model: thresholding is 10.115105628967285\n",
      "snr of model: thresholding is 64.23668101682502\n",
      "\n",
      "\n",
      "\n",
      "curr threshold is 0.5\n"
     ]
    },
    {
     "name": "stderr",
     "output_type": "stream",
     "text": [
      "100%|██████████| 59/59 [01:00<00:00,  1.03s/it]\n"
     ]
    },
    {
     "name": "stdout",
     "output_type": "stream",
     "text": [
      "test loader size: 59\n",
      "loss of model: thresholding is 13.497629165649414\n",
      "snr of model: thresholding is 55.43751742476124\n",
      "\n",
      "\n",
      "\n",
      "curr threshold is 0.55\n"
     ]
    },
    {
     "name": "stderr",
     "output_type": "stream",
     "text": [
      "100%|██████████| 59/59 [01:00<00:00,  1.03s/it]\n"
     ]
    },
    {
     "name": "stdout",
     "output_type": "stream",
     "text": [
      "test loader size: 59\n",
      "loss of model: thresholding is 20.52016258239746\n",
      "snr of model: thresholding is 41.04014632661464\n",
      "\n",
      "\n",
      "\n",
      "curr threshold is 0.6\n"
     ]
    },
    {
     "name": "stderr",
     "output_type": "stream",
     "text": [
      "100%|██████████| 59/59 [00:56<00:00,  1.04it/s]"
     ]
    },
    {
     "name": "stdout",
     "output_type": "stream",
     "text": [
      "test loader size: 59\n",
      "loss of model: thresholding is 30.70060920715332\n",
      "snr of model: thresholding is 32.3832193794897\n",
      "\n",
      "\n",
      "\n"
     ]
    },
    {
     "name": "stderr",
     "output_type": "stream",
     "text": [
      "\n"
     ]
    },
    {
     "data": {
      "text/plain": [
       "<Figure size 432x288 with 0 Axes>"
      ]
     },
     "metadata": {},
     "output_type": "display_data"
    }
   ],
   "source": [
    "for threshold in [0, 0.3, 0.35, 0.4, 0.45, 0.5, 0.55, 0.6]:\n",
    "    print(f\"curr threshold is {threshold}\")\n",
    "    test_thresholding(test_loader, threshold_value = threshold , dir_name_to_save=\"experimenting_all_threhsolds\")\n",
    "    print(\"\\n\\n\")\n"
   ]
  },
  {
   "cell_type": "code",
   "execution_count": null,
   "metadata": {},
   "outputs": [],
   "source": []
  }
 ],
 "metadata": {
  "kernelspec": {
   "display_name": "base",
   "language": "python",
   "name": "python3"
  },
  "language_info": {
   "codemirror_mode": {
    "name": "ipython",
    "version": 3
   },
   "file_extension": ".py",
   "mimetype": "text/x-python",
   "name": "python",
   "nbconvert_exporter": "python",
   "pygments_lexer": "ipython3",
   "version": "3.8.12"
  },
  "orig_nbformat": 4
 },
 "nbformat": 4,
 "nbformat_minor": 2
}
