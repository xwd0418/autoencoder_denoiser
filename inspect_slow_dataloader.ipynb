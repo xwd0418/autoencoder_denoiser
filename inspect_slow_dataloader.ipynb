{
 "cells": [
  {
   "cell_type": "code",
   "execution_count": 1,
   "metadata": {},
   "outputs": [],
   "source": [
    "import json\n",
    "import os\n",
    "import matplotlib.pyplot as plt\n",
    "import numpy as np\n",
    "from PIL import Image\n",
    "import json\n",
    "import cv2\n",
    "import matplotlib.image\n",
    "from glob import glob\n",
    "import torch\n",
    "from model_factory import get_model\n",
    "import argparse\n",
    "from model_factory import UNet\n",
    "from hsqc_dataset import * \n",
    "from tqdm import tqdm\n",
    "\n",
    "f = open('/root/autoencoder_denoiser/configs_baseline_selection/baseline.json')\n",
    "config = json.load(f)\n",
    "\n",
    "\n",
    "from matplotlib import pyplot as plt\n",
    "plt.rcParams[\"figure.figsize\"] = (20,10)\n",
    "clist = [(0,\"darkblue\"), (0.5,\"white\"), (1, \"darkred\")]\n",
    "custom_HSQC_cmap = matplotlib.colors.LinearSegmentedColormap.from_list(\"_\",clist)"
   ]
  },
  {
   "cell_type": "code",
   "execution_count": 2,
   "metadata": {},
   "outputs": [],
   "source": [
    "# train_loader, val_loader, test_loader = get_datasets(config)\n",
    "\n",
    "# for iter, data in enumerate(tqdm(train_loader)):\n",
    "#     raw, noise = (data)"
   ]
  },
  {
   "cell_type": "code",
   "execution_count": 3,
   "metadata": {},
   "outputs": [],
   "source": [
    "# import glob \n",
    "# for path in tqdm(glob.glob('/root/data/SMILES_dataset/train/HSQC_trimmed/*.pt')):\n",
    "#             raw_sample = torch.load(path)"
   ]
  },
  {
   "cell_type": "code",
   "execution_count": 2,
   "metadata": {},
   "outputs": [],
   "source": [
    "from torch.utils.data import Dataset, DataLoader\n",
    "\n",
    "class SlowDataset(Dataset):\n",
    "    def __init__(self, split=\"train\"):\n",
    "        \n",
    "        self.hsqc_path = 'HSQC_trimmed'\n",
    "        self.dir = \"/root/data/hyun_fp_data/hsqc_ms_pairs/\"\n",
    "        self.split = split\n",
    "        \n",
    "        self.hsqc_files = list(os.listdir(os.path.join(self.dir, split, self.hsqc_path)))\n",
    "        # self.HSQC_files = list(os.listdir(os.path.join(self.dir, split, \"HSQC\")))\n",
    "        # assert (len(self.FP_files ) == (self.HSQC_files))\n",
    "\n",
    "    def __len__(self): \n",
    "        \n",
    "        return len(self.hsqc_files)*5\n",
    "\n",
    "    def __getitem__(self, i):\n",
    "        \n",
    "        \n",
    "        \n",
    "        file_index = i//5\n",
    "\n",
    "        raw_sample = torch.load(os.path.join(self.dir,  self.split, self.hsqc_path, self.hsqc_files[file_index]))\n",
    "        return raw_sample\n",
    "    \n"
   ]
  },
  {
   "cell_type": "code",
   "execution_count": 3,
   "metadata": {},
   "outputs": [],
   "source": [
    "loader =  DataLoader(SlowDataset(),batch_size=64, shuffle=True, num_workers=os.cpu_count())"
   ]
  },
  {
   "cell_type": "code",
   "execution_count": 7,
   "metadata": {},
   "outputs": [
    {
     "name": "stderr",
     "output_type": "stream",
     "text": [
      "100%|██████████| 766/766 [00:03<00:00, 243.20it/s]\n"
     ]
    }
   ],
   "source": [
    "for data in tqdm(loader):\n",
    "    a = data "
   ]
  },
  {
   "cell_type": "code",
   "execution_count": null,
   "metadata": {},
   "outputs": [],
   "source": []
  }
 ],
 "metadata": {
  "kernelspec": {
   "display_name": "base",
   "language": "python",
   "name": "python3"
  },
  "language_info": {
   "codemirror_mode": {
    "name": "ipython",
    "version": 3
   },
   "file_extension": ".py",
   "mimetype": "text/x-python",
   "name": "python",
   "nbconvert_exporter": "python",
   "pygments_lexer": "ipython3",
   "version": "3.8.12"
  },
  "orig_nbformat": 4
 },
 "nbformat": 4,
 "nbformat_minor": 2
}
