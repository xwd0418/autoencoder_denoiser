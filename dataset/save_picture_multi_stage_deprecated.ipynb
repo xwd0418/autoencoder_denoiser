{
 "cells": [
  {
   "cell_type": "code",
   "execution_count": 2,
   "metadata": {},
   "outputs": [
    {
     "data": {
      "text/plain": [
       "['/root/autoencoder_denoiser/dataset/real_img_referral_for_testing/real_hsqc_noisy/Quercetin_HSQC_noisy_4.png',\n",
       " '/root/autoencoder_denoiser/dataset/real_img_referral_for_testing/real_hsqc_noisy/Quercetin_noisy_5.png',\n",
       " '/root/autoencoder_denoiser/dataset/real_img_referral_for_testing/real_hsqc_noisy/Quercetin_noisy_3.png',\n",
       " '/root/autoencoder_denoiser/dataset/real_img_referral_for_testing/real_hsqc_noisy/Palmitic acid_noisy_3.png',\n",
       " '/root/autoencoder_denoiser/dataset/real_img_referral_for_testing/real_hsqc_noisy/Menthol_noisy_7.png',\n",
       " '/root/autoencoder_denoiser/dataset/real_img_referral_for_testing/real_hsqc_noisy/Cyclosporin A_noisy_5.png',\n",
       " '/root/autoencoder_denoiser/dataset/real_img_referral_for_testing/real_hsqc_noisy/Reserpine_noisy_2.png',\n",
       " '/root/autoencoder_denoiser/dataset/real_img_referral_for_testing/real_hsqc_noisy/Quercetin_HSQC_noisy_1.png',\n",
       " '/root/autoencoder_denoiser/dataset/real_img_referral_for_testing/real_hsqc_noisy/Erythromycin_noisy_5.png',\n",
       " '/root/autoencoder_denoiser/dataset/real_img_referral_for_testing/real_hsqc_noisy/Reserpine_noisy_3.png',\n",
       " '/root/autoencoder_denoiser/dataset/real_img_referral_for_testing/real_hsqc_noisy/Menthol_noisy_3.png',\n",
       " '/root/autoencoder_denoiser/dataset/real_img_referral_for_testing/real_hsqc_noisy/Artemisinin_noisy_6.png',\n",
       " '/root/autoencoder_denoiser/dataset/real_img_referral_for_testing/real_hsqc_noisy/Quercetin_HSQC_noisy_5.png',\n",
       " '/root/autoencoder_denoiser/dataset/real_img_referral_for_testing/real_hsqc_noisy/Rapamycin_noisy_1.png',\n",
       " '/root/autoencoder_denoiser/dataset/real_img_referral_for_testing/real_hsqc_noisy/Reserpine_noisy_1.png',\n",
       " '/root/autoencoder_denoiser/dataset/real_img_referral_for_testing/real_hsqc_noisy/Rifampicin_noisy_5.png',\n",
       " '/root/autoencoder_denoiser/dataset/real_img_referral_for_testing/real_hsqc_noisy/Quercetin_HSQC_noisy_2.png',\n",
       " '/root/autoencoder_denoiser/dataset/real_img_referral_for_testing/real_hsqc_noisy/Erythromycin_noisy_10.png',\n",
       " '/root/autoencoder_denoiser/dataset/real_img_referral_for_testing/real_hsqc_noisy/Cyclosporin A_noisy_4.png',\n",
       " '/root/autoencoder_denoiser/dataset/real_img_referral_for_testing/real_hsqc_noisy/Artemisinin_noisy_3.png',\n",
       " '/root/autoencoder_denoiser/dataset/real_img_referral_for_testing/real_hsqc_noisy/Digoxin_noisy_4.png',\n",
       " '/root/autoencoder_denoiser/dataset/real_img_referral_for_testing/real_hsqc_noisy/Erythromycin_noisy_3.png',\n",
       " '/root/autoencoder_denoiser/dataset/real_img_referral_for_testing/real_hsqc_noisy/Palmitic acid_noisy_4.png',\n",
       " '/root/autoencoder_denoiser/dataset/real_img_referral_for_testing/real_hsqc_noisy/Rifampicin_noisy_4.png',\n",
       " '/root/autoencoder_denoiser/dataset/real_img_referral_for_testing/real_hsqc_noisy/Menthol_noisy_5.png',\n",
       " '/root/autoencoder_denoiser/dataset/real_img_referral_for_testing/real_hsqc_noisy/Erythromycin_noisy_9.png',\n",
       " '/root/autoencoder_denoiser/dataset/real_img_referral_for_testing/real_hsqc_noisy/Cyclosporin A_noisy_2.png',\n",
       " '/root/autoencoder_denoiser/dataset/real_img_referral_for_testing/real_hsqc_noisy/Cyclosporin A_noisy_3.png',\n",
       " '/root/autoencoder_denoiser/dataset/real_img_referral_for_testing/real_hsqc_noisy/Reserpine_noisy_4.png',\n",
       " '/root/autoencoder_denoiser/dataset/real_img_referral_for_testing/real_hsqc_noisy/Erythromycin_noisy_6.png',\n",
       " '/root/autoencoder_denoiser/dataset/real_img_referral_for_testing/real_hsqc_noisy/Strychnine_noisy_2.png',\n",
       " '/root/autoencoder_denoiser/dataset/real_img_referral_for_testing/real_hsqc_noisy/Rifampicin_noisy_3.png',\n",
       " '/root/autoencoder_denoiser/dataset/real_img_referral_for_testing/real_hsqc_noisy/Rapamycin_noisy_4.png',\n",
       " '/root/autoencoder_denoiser/dataset/real_img_referral_for_testing/real_hsqc_noisy/Quercetin_HSQC_noisy_3.png',\n",
       " '/root/autoencoder_denoiser/dataset/real_img_referral_for_testing/real_hsqc_noisy/Strychnine_noisy_3.png',\n",
       " '/root/autoencoder_denoiser/dataset/real_img_referral_for_testing/real_hsqc_noisy/Erythromycin_noisy_8.png',\n",
       " '/root/autoencoder_denoiser/dataset/real_img_referral_for_testing/real_hsqc_noisy/Rapamycin_noisy_2.png',\n",
       " '/root/autoencoder_denoiser/dataset/real_img_referral_for_testing/real_hsqc_noisy/Strychnine_noisy_5.png',\n",
       " '/root/autoencoder_denoiser/dataset/real_img_referral_for_testing/real_hsqc_noisy/Strychnine_noisy_1.png',\n",
       " '/root/autoencoder_denoiser/dataset/real_img_referral_for_testing/real_hsqc_noisy/Cyclosporin A_noisy_1.png',\n",
       " '/root/autoencoder_denoiser/dataset/real_img_referral_for_testing/real_hsqc_noisy/Strychnine_noisy_4.png',\n",
       " '/root/autoencoder_denoiser/dataset/real_img_referral_for_testing/real_hsqc_noisy/Digoxin_noisy_5.png',\n",
       " '/root/autoencoder_denoiser/dataset/real_img_referral_for_testing/real_hsqc_noisy/Quercetin_noisy_1.png',\n",
       " '/root/autoencoder_denoiser/dataset/real_img_referral_for_testing/real_hsqc_noisy/Menthol_noisy_4.png',\n",
       " '/root/autoencoder_denoiser/dataset/real_img_referral_for_testing/real_hsqc_noisy/Menthol_noisy_2.png',\n",
       " '/root/autoencoder_denoiser/dataset/real_img_referral_for_testing/real_hsqc_noisy/Digoxin_noisy_1.png',\n",
       " '/root/autoencoder_denoiser/dataset/real_img_referral_for_testing/real_hsqc_noisy/Quercetin_noisy_4.png',\n",
       " '/root/autoencoder_denoiser/dataset/real_img_referral_for_testing/real_hsqc_noisy/Artemisinin_noisy_4.png',\n",
       " '/root/autoencoder_denoiser/dataset/real_img_referral_for_testing/real_hsqc_noisy/Rifampicin_noisy_2.png',\n",
       " '/root/autoencoder_denoiser/dataset/real_img_referral_for_testing/real_hsqc_noisy/Digoxin_noisy_3.png',\n",
       " '/root/autoencoder_denoiser/dataset/real_img_referral_for_testing/real_hsqc_noisy/Digoxin_noisy_2.png',\n",
       " '/root/autoencoder_denoiser/dataset/real_img_referral_for_testing/real_hsqc_noisy/Erythromycin_noisy_1.png',\n",
       " '/root/autoencoder_denoiser/dataset/real_img_referral_for_testing/real_hsqc_noisy/Menthol_noisy_6.png',\n",
       " '/root/autoencoder_denoiser/dataset/real_img_referral_for_testing/real_hsqc_noisy/Artemisinin_noisy_5.png',\n",
       " '/root/autoencoder_denoiser/dataset/real_img_referral_for_testing/real_hsqc_noisy/Erythromycin_noisy_7.png',\n",
       " '/root/autoencoder_denoiser/dataset/real_img_referral_for_testing/real_hsqc_noisy/Erythromycin_noisy_2.png',\n",
       " '/root/autoencoder_denoiser/dataset/real_img_referral_for_testing/real_hsqc_noisy/Palmitic acid_noisy_2.png',\n",
       " '/root/autoencoder_denoiser/dataset/real_img_referral_for_testing/real_hsqc_noisy/Rapamycin_noisy_3.png',\n",
       " '/root/autoencoder_denoiser/dataset/real_img_referral_for_testing/real_hsqc_noisy/Quercetin_noisy_2.png',\n",
       " '/root/autoencoder_denoiser/dataset/real_img_referral_for_testing/real_hsqc_noisy/Rifampicin_noisy_1.png',\n",
       " '/root/autoencoder_denoiser/dataset/real_img_referral_for_testing/real_hsqc_noisy/Erythromycin_noisy_4.png',\n",
       " '/root/autoencoder_denoiser/dataset/real_img_referral_for_testing/real_hsqc_noisy/Artemisinin_noisy_1.png',\n",
       " '/root/autoencoder_denoiser/dataset/real_img_referral_for_testing/real_hsqc_noisy/Palmitic acid_noisy_1.png',\n",
       " '/root/autoencoder_denoiser/dataset/real_img_referral_for_testing/real_hsqc_noisy/Menthol_noisy_1.png',\n",
       " '/root/autoencoder_denoiser/dataset/real_img_referral_for_testing/real_hsqc_noisy/Artemisinin_noisy_2.png']"
      ]
     },
     "execution_count": 2,
     "metadata": {},
     "output_type": "execute_result"
    }
   ],
   "source": [
    "import os,sys\n",
    "from glob import glob\n",
    "import cv2\n",
    "import pandas as pd\n",
    "import numpy as np\n",
    "from tqdm import tqdm\n",
    "import matplotlib.pyplot as plt\n",
    "from PIL import Image\n",
    "import pickle\n",
    "\n",
    "\n",
    "img_dir = \"/root/autoencoder_denoiser/dataset/real_img_referral_for_testing\"\n",
    "clean_dir = os.path.join(img_dir, \"real_hsqc_clean\")\n",
    "noisy_dir = os.path.join(img_dir, \"real_hsqc_noisy\")\n",
    "\n",
    "\n",
    "all_img_paths = glob(noisy_dir+\"/*\")\n",
    "all_img_paths"
   ]
  },
  {
   "cell_type": "code",
   "execution_count": 5,
   "metadata": {},
   "outputs": [
    {
     "name": "stdout",
     "output_type": "stream",
     "text": [
      "stage : 6\n"
     ]
    },
    {
     "name": "stderr",
     "output_type": "stream",
     "text": [
      "  0%|          | 0/52 [00:00<?, ?it/s]"
     ]
    },
    {
     "name": "stdout",
     "output_type": "stream",
     "text": [
      "processing : /root/autoencoder_denoiser/dataset/real_img_referral_for_testing/real_hsqc_noisy/Erythromycin_noisy_6.png\n"
     ]
    },
    {
     "name": "stderr",
     "output_type": "stream",
     "text": [
      "  2%|▏         | 1/52 [00:03<02:50,  3.34s/it]"
     ]
    },
    {
     "name": "stdout",
     "output_type": "stream",
     "text": [
      "processing : /root/autoencoder_denoiser/dataset/real_img_referral_for_testing/real_hsqc_noisy/Artemisinin_noisy_6.png\n"
     ]
    },
    {
     "name": "stderr",
     "output_type": "stream",
     "text": [
      " 35%|███▍      | 18/52 [00:06<00:10,  3.09it/s]"
     ]
    },
    {
     "name": "stdout",
     "output_type": "stream",
     "text": [
      "processing : /root/autoencoder_denoiser/dataset/real_img_referral_for_testing/real_hsqc_noisy/Erythromycin_noisy_7.png\n"
     ]
    },
    {
     "name": "stderr",
     "output_type": "stream",
     "text": [
      " 67%|██████▋   | 35/52 [00:11<00:04,  3.42it/s]"
     ]
    },
    {
     "name": "stdout",
     "output_type": "stream",
     "text": [
      "processing : /root/autoencoder_denoiser/dataset/real_img_referral_for_testing/real_hsqc_noisy/Menthol_noisy_7.png\n"
     ]
    },
    {
     "name": "stderr",
     "output_type": "stream",
     "text": [
      " 69%|██████▉   | 36/52 [00:15<00:07,  2.12it/s]"
     ]
    },
    {
     "name": "stdout",
     "output_type": "stream",
     "text": [
      "processing : /root/autoencoder_denoiser/dataset/real_img_referral_for_testing/real_hsqc_noisy/Erythromycin_noisy_9.png\n"
     ]
    },
    {
     "name": "stderr",
     "output_type": "stream",
     "text": [
      " 71%|███████   | 37/52 [00:19<00:10,  1.41it/s]"
     ]
    },
    {
     "name": "stdout",
     "output_type": "stream",
     "text": [
      "processing : /root/autoencoder_denoiser/dataset/real_img_referral_for_testing/real_hsqc_noisy/Erythromycin_noisy_8.png\n"
     ]
    },
    {
     "name": "stderr",
     "output_type": "stream",
     "text": [
      " 87%|████████▋ | 45/52 [00:23<00:04,  1.70it/s]"
     ]
    },
    {
     "name": "stdout",
     "output_type": "stream",
     "text": [
      "processing : /root/autoencoder_denoiser/dataset/real_img_referral_for_testing/real_hsqc_noisy/Menthol_noisy_6.png\n"
     ]
    },
    {
     "name": "stderr",
     "output_type": "stream",
     "text": [
      "100%|██████████| 52/52 [00:26<00:00,  1.96it/s]\n"
     ]
    },
    {
     "name": "stdout",
     "output_type": "stream",
     "text": [
      "saving train_stage_6\n",
      "stage : 5\n"
     ]
    },
    {
     "name": "stderr",
     "output_type": "stream",
     "text": [
      "  0%|          | 0/52 [00:00<?, ?it/s]"
     ]
    },
    {
     "name": "stdout",
     "output_type": "stream",
     "text": [
      "processing : /root/autoencoder_denoiser/dataset/real_img_referral_for_testing/real_hsqc_noisy/Menthol_noisy_5.png\n"
     ]
    },
    {
     "name": "stderr",
     "output_type": "stream",
     "text": [
      " 12%|█▏        | 6/52 [00:03<00:27,  1.64it/s]"
     ]
    },
    {
     "name": "stdout",
     "output_type": "stream",
     "text": [
      "processing : /root/autoencoder_denoiser/dataset/real_img_referral_for_testing/real_hsqc_noisy/Quercetin_HSQC_noisy_5.png\n",
      "processing : /root/autoencoder_denoiser/dataset/real_img_referral_for_testing/real_hsqc_noisy/Quercetin_noisy_5.png\n"
     ]
    },
    {
     "name": "stderr",
     "output_type": "stream",
     "text": [
      " 42%|████▏     | 22/52 [00:07<00:09,  3.29it/s]"
     ]
    },
    {
     "name": "stdout",
     "output_type": "stream",
     "text": [
      "processing : /root/autoencoder_denoiser/dataset/real_img_referral_for_testing/real_hsqc_noisy/Strychnine_noisy_5.png\n"
     ]
    },
    {
     "name": "stderr",
     "output_type": "stream",
     "text": [
      "100%|██████████| 52/52 [00:10<00:00,  4.86it/s]\n"
     ]
    },
    {
     "name": "stdout",
     "output_type": "stream",
     "text": [
      "saving train_stage_5\n",
      "stage : 4\n"
     ]
    },
    {
     "name": "stderr",
     "output_type": "stream",
     "text": [
      "  0%|          | 0/52 [00:00<?, ?it/s]"
     ]
    },
    {
     "name": "stdout",
     "output_type": "stream",
     "text": [
      "processing : /root/autoencoder_denoiser/dataset/real_img_referral_for_testing/real_hsqc_noisy/Digoxin_noisy_4.png\n"
     ]
    },
    {
     "name": "stderr",
     "output_type": "stream",
     "text": [
      "  4%|▍         | 2/52 [00:03<01:23,  1.68s/it]"
     ]
    },
    {
     "name": "stdout",
     "output_type": "stream",
     "text": [
      "processing : /root/autoencoder_denoiser/dataset/real_img_referral_for_testing/real_hsqc_noisy/Quercetin_noisy_4.png\n"
     ]
    },
    {
     "name": "stderr",
     "output_type": "stream",
     "text": [
      "  6%|▌         | 3/52 [00:06<01:59,  2.45s/it]"
     ]
    },
    {
     "name": "stdout",
     "output_type": "stream",
     "text": [
      "processing : /root/autoencoder_denoiser/dataset/real_img_referral_for_testing/real_hsqc_noisy/Erythromycin_noisy_4.png\n"
     ]
    },
    {
     "name": "stderr",
     "output_type": "stream",
     "text": [
      " 10%|▉         | 5/52 [00:11<01:51,  2.37s/it]"
     ]
    },
    {
     "name": "stdout",
     "output_type": "stream",
     "text": [
      "processing : /root/autoencoder_denoiser/dataset/real_img_referral_for_testing/real_hsqc_noisy/Cyclosporin A_noisy_4.png\n"
     ]
    },
    {
     "name": "stderr",
     "output_type": "stream",
     "text": [
      " 29%|██▉       | 15/52 [00:15<00:28,  1.31it/s]"
     ]
    },
    {
     "name": "stdout",
     "output_type": "stream",
     "text": [
      "processing : /root/autoencoder_denoiser/dataset/real_img_referral_for_testing/real_hsqc_noisy/Artemisinin_noisy_4.png\n"
     ]
    },
    {
     "name": "stderr",
     "output_type": "stream",
     "text": [
      " 31%|███       | 16/52 [00:18<00:37,  1.04s/it]"
     ]
    },
    {
     "name": "stdout",
     "output_type": "stream",
     "text": [
      "processing : /root/autoencoder_denoiser/dataset/real_img_referral_for_testing/real_hsqc_noisy/Menthol_noisy_4.png\n"
     ]
    },
    {
     "name": "stderr",
     "output_type": "stream",
     "text": [
      " 44%|████▍     | 23/52 [00:21<00:22,  1.31it/s]"
     ]
    },
    {
     "name": "stdout",
     "output_type": "stream",
     "text": [
      "processing : /root/autoencoder_denoiser/dataset/real_img_referral_for_testing/real_hsqc_noisy/Quercetin_HSQC_noisy_4.png\n",
      "processing : /root/autoencoder_denoiser/dataset/real_img_referral_for_testing/real_hsqc_noisy/Reserpine_noisy_4.png\n"
     ]
    },
    {
     "name": "stderr",
     "output_type": "stream",
     "text": [
      " 62%|██████▏   | 32/52 [00:24<00:11,  1.80it/s]"
     ]
    },
    {
     "name": "stdout",
     "output_type": "stream",
     "text": [
      "processing : /root/autoencoder_denoiser/dataset/real_img_referral_for_testing/real_hsqc_noisy/Rapamycin_noisy_4.png\n"
     ]
    },
    {
     "name": "stderr",
     "output_type": "stream",
     "text": [
      "100%|██████████| 52/52 [00:28<00:00,  1.83it/s]\n"
     ]
    },
    {
     "name": "stdout",
     "output_type": "stream",
     "text": [
      "saving train_stage_4\n",
      "stage : 3\n"
     ]
    },
    {
     "name": "stderr",
     "output_type": "stream",
     "text": [
      "  0%|          | 0/52 [00:00<?, ?it/s]"
     ]
    },
    {
     "name": "stdout",
     "output_type": "stream",
     "text": [
      "processing : /root/autoencoder_denoiser/dataset/real_img_referral_for_testing/real_hsqc_noisy/Reserpine_noisy_3.png\n"
     ]
    },
    {
     "name": "stderr",
     "output_type": "stream",
     "text": [
      " 27%|██▋       | 14/52 [00:02<00:07,  4.88it/s]"
     ]
    },
    {
     "name": "stdout",
     "output_type": "stream",
     "text": [
      "processing : /root/autoencoder_denoiser/dataset/real_img_referral_for_testing/real_hsqc_noisy/Rapamycin_noisy_3.png\n"
     ]
    },
    {
     "name": "stderr",
     "output_type": "stream",
     "text": [
      " 37%|███▋      | 19/52 [00:06<00:12,  2.64it/s]"
     ]
    },
    {
     "name": "stdout",
     "output_type": "stream",
     "text": [
      "processing : /root/autoencoder_denoiser/dataset/real_img_referral_for_testing/real_hsqc_noisy/Artemisinin_noisy_3.png\n"
     ]
    },
    {
     "name": "stderr",
     "output_type": "stream",
     "text": [
      " 38%|███▊      | 20/52 [00:09<00:20,  1.55it/s]"
     ]
    },
    {
     "name": "stdout",
     "output_type": "stream",
     "text": [
      "processing : /root/autoencoder_denoiser/dataset/real_img_referral_for_testing/real_hsqc_noisy/Quercetin_noisy_3.png\n"
     ]
    },
    {
     "name": "stderr",
     "output_type": "stream",
     "text": [
      " 40%|████      | 21/52 [00:14<00:32,  1.06s/it]"
     ]
    },
    {
     "name": "stdout",
     "output_type": "stream",
     "text": [
      "processing : /root/autoencoder_denoiser/dataset/real_img_referral_for_testing/real_hsqc_noisy/Cyclosporin A_noisy_3.png\n"
     ]
    },
    {
     "name": "stderr",
     "output_type": "stream",
     "text": [
      " 50%|█████     | 26/52 [00:18<00:25,  1.02it/s]"
     ]
    },
    {
     "name": "stdout",
     "output_type": "stream",
     "text": [
      "processing : /root/autoencoder_denoiser/dataset/real_img_referral_for_testing/real_hsqc_noisy/Menthol_noisy_3.png\n"
     ]
    },
    {
     "name": "stderr",
     "output_type": "stream",
     "text": [
      " 58%|█████▊    | 30/52 [00:23<00:22,  1.04s/it]"
     ]
    },
    {
     "name": "stdout",
     "output_type": "stream",
     "text": [
      "processing : /root/autoencoder_denoiser/dataset/real_img_referral_for_testing/real_hsqc_noisy/Palmitic acid_noisy_3.png\n"
     ]
    },
    {
     "name": "stderr",
     "output_type": "stream",
     "text": [
      " 60%|█████▉    | 31/52 [00:27<00:29,  1.39s/it]"
     ]
    },
    {
     "name": "stdout",
     "output_type": "stream",
     "text": [
      "processing : /root/autoencoder_denoiser/dataset/real_img_referral_for_testing/real_hsqc_noisy/Erythromycin_noisy_3.png\n"
     ]
    },
    {
     "name": "stderr",
     "output_type": "stream",
     "text": [
      " 88%|████████▊ | 46/52 [00:31<00:03,  1.71it/s]"
     ]
    },
    {
     "name": "stdout",
     "output_type": "stream",
     "text": [
      "processing : /root/autoencoder_denoiser/dataset/real_img_referral_for_testing/real_hsqc_noisy/Strychnine_noisy_3.png\n"
     ]
    },
    {
     "name": "stderr",
     "output_type": "stream",
     "text": [
      " 92%|█████████▏| 48/52 [00:35<00:03,  1.30it/s]"
     ]
    },
    {
     "name": "stdout",
     "output_type": "stream",
     "text": [
      "processing : /root/autoencoder_denoiser/dataset/real_img_referral_for_testing/real_hsqc_noisy/Digoxin_noisy_3.png\n"
     ]
    },
    {
     "name": "stderr",
     "output_type": "stream",
     "text": [
      " 94%|█████████▍| 49/52 [00:38<00:02,  1.02it/s]"
     ]
    },
    {
     "name": "stdout",
     "output_type": "stream",
     "text": [
      "processing : /root/autoencoder_denoiser/dataset/real_img_referral_for_testing/real_hsqc_noisy/Quercetin_HSQC_noisy_3.png\n"
     ]
    },
    {
     "name": "stderr",
     "output_type": "stream",
     "text": [
      "100%|██████████| 52/52 [00:39<00:00,  1.32it/s]\n"
     ]
    },
    {
     "name": "stdout",
     "output_type": "stream",
     "text": [
      "saving train_stage_3\n",
      "stage : 2\n"
     ]
    },
    {
     "name": "stderr",
     "output_type": "stream",
     "text": [
      "  0%|          | 0/52 [00:00<?, ?it/s]"
     ]
    },
    {
     "name": "stdout",
     "output_type": "stream",
     "text": [
      "processing : /root/autoencoder_denoiser/dataset/real_img_referral_for_testing/real_hsqc_noisy/Palmitic acid_noisy_2.png\n"
     ]
    },
    {
     "name": "stderr",
     "output_type": "stream",
     "text": [
      "  8%|▊         | 4/52 [00:04<00:58,  1.21s/it]"
     ]
    },
    {
     "name": "stdout",
     "output_type": "stream",
     "text": [
      "processing : /root/autoencoder_denoiser/dataset/real_img_referral_for_testing/real_hsqc_noisy/Rapamycin_noisy_2.png\n"
     ]
    },
    {
     "name": "stderr",
     "output_type": "stream",
     "text": [
      " 15%|█▌        | 8/52 [00:10<00:55,  1.27s/it]"
     ]
    },
    {
     "name": "stdout",
     "output_type": "stream",
     "text": [
      "processing : /root/autoencoder_denoiser/dataset/real_img_referral_for_testing/real_hsqc_noisy/Digoxin_noisy_2.png\n"
     ]
    },
    {
     "name": "stderr",
     "output_type": "stream",
     "text": [
      " 17%|█▋        | 9/52 [00:14<01:18,  1.82s/it]"
     ]
    },
    {
     "name": "stdout",
     "output_type": "stream",
     "text": [
      "processing : /root/autoencoder_denoiser/dataset/real_img_referral_for_testing/real_hsqc_noisy/Cyclosporin A_noisy_2.png\n"
     ]
    },
    {
     "name": "stderr",
     "output_type": "stream",
     "text": [
      " 19%|█▉        | 10/52 [00:19<01:42,  2.45s/it]"
     ]
    },
    {
     "name": "stdout",
     "output_type": "stream",
     "text": [
      "processing : /root/autoencoder_denoiser/dataset/real_img_referral_for_testing/real_hsqc_noisy/Quercetin_noisy_2.png\n"
     ]
    },
    {
     "name": "stderr",
     "output_type": "stream",
     "text": [
      " 21%|██        | 11/52 [00:24<02:06,  3.08s/it]"
     ]
    },
    {
     "name": "stdout",
     "output_type": "stream",
     "text": [
      "processing : /root/autoencoder_denoiser/dataset/real_img_referral_for_testing/real_hsqc_noisy/Erythromycin_noisy_2.png\n"
     ]
    },
    {
     "name": "stderr",
     "output_type": "stream",
     "text": [
      " 23%|██▎       | 12/52 [00:28<02:11,  3.28s/it]"
     ]
    },
    {
     "name": "stdout",
     "output_type": "stream",
     "text": [
      "processing : /root/autoencoder_denoiser/dataset/real_img_referral_for_testing/real_hsqc_noisy/Reserpine_noisy_2.png\n"
     ]
    },
    {
     "name": "stderr",
     "output_type": "stream",
     "text": [
      " 48%|████▊     | 25/52 [00:31<00:20,  1.29it/s]"
     ]
    },
    {
     "name": "stdout",
     "output_type": "stream",
     "text": [
      "processing : /root/autoencoder_denoiser/dataset/real_img_referral_for_testing/real_hsqc_noisy/Menthol_noisy_2.png\n"
     ]
    },
    {
     "name": "stderr",
     "output_type": "stream",
     "text": [
      " 75%|███████▌  | 39/52 [00:35<00:06,  1.93it/s]"
     ]
    },
    {
     "name": "stdout",
     "output_type": "stream",
     "text": [
      "processing : /root/autoencoder_denoiser/dataset/real_img_referral_for_testing/real_hsqc_noisy/Artemisinin_noisy_2.png\n"
     ]
    },
    {
     "name": "stderr",
     "output_type": "stream",
     "text": [
      " 81%|████████  | 42/52 [00:41<00:06,  1.44it/s]"
     ]
    },
    {
     "name": "stdout",
     "output_type": "stream",
     "text": [
      "processing : /root/autoencoder_denoiser/dataset/real_img_referral_for_testing/real_hsqc_noisy/Strychnine_noisy_2.png\n"
     ]
    },
    {
     "name": "stderr",
     "output_type": "stream",
     "text": [
      "100%|██████████| 52/52 [00:45<00:00,  1.13it/s]\n"
     ]
    },
    {
     "name": "stdout",
     "output_type": "stream",
     "text": [
      "saving train_stage_2\n",
      "stage : 1\n"
     ]
    },
    {
     "name": "stderr",
     "output_type": "stream",
     "text": [
      "  0%|          | 0/52 [00:00<?, ?it/s]"
     ]
    },
    {
     "name": "stdout",
     "output_type": "stream",
     "text": [
      "processing : /root/autoencoder_denoiser/dataset/real_img_referral_for_testing/real_hsqc_noisy/Strychnine_noisy_1.png\n"
     ]
    },
    {
     "name": "stderr",
     "output_type": "stream",
     "text": [
      " 25%|██▌       | 13/52 [00:04<00:14,  2.60it/s]"
     ]
    },
    {
     "name": "stdout",
     "output_type": "stream",
     "text": [
      "processing : /root/autoencoder_denoiser/dataset/real_img_referral_for_testing/real_hsqc_noisy/Cyclosporin A_noisy_1.png\n"
     ]
    },
    {
     "name": "stderr",
     "output_type": "stream",
     "text": [
      " 33%|███▎      | 17/52 [00:10<00:22,  1.53it/s]"
     ]
    },
    {
     "name": "stdout",
     "output_type": "stream",
     "text": [
      "processing : /root/autoencoder_denoiser/dataset/real_img_referral_for_testing/real_hsqc_noisy/Digoxin_noisy_1.png\n"
     ]
    },
    {
     "name": "stderr",
     "output_type": "stream",
     "text": [
      " 46%|████▌     | 24/52 [00:15<00:19,  1.47it/s]"
     ]
    },
    {
     "name": "stdout",
     "output_type": "stream",
     "text": [
      "processing : /root/autoencoder_denoiser/dataset/real_img_referral_for_testing/real_hsqc_noisy/Menthol_noisy_1.png\n"
     ]
    },
    {
     "name": "stderr",
     "output_type": "stream",
     "text": [
      " 54%|█████▍    | 28/52 [00:20<00:19,  1.21it/s]"
     ]
    },
    {
     "name": "stdout",
     "output_type": "stream",
     "text": [
      "processing : /root/autoencoder_denoiser/dataset/real_img_referral_for_testing/real_hsqc_noisy/Rifampicin_noisy_1.png\n"
     ]
    },
    {
     "name": "stderr",
     "output_type": "stream",
     "text": [
      " 56%|█████▌    | 29/52 [00:25<00:27,  1.18s/it]"
     ]
    },
    {
     "name": "stdout",
     "output_type": "stream",
     "text": [
      "processing : /root/autoencoder_denoiser/dataset/real_img_referral_for_testing/real_hsqc_noisy/Erythromycin_noisy_1.png\n"
     ]
    },
    {
     "name": "stderr",
     "output_type": "stream",
     "text": [
      " 65%|██████▌   | 34/52 [00:29<00:19,  1.06s/it]"
     ]
    },
    {
     "name": "stdout",
     "output_type": "stream",
     "text": [
      "processing : /root/autoencoder_denoiser/dataset/real_img_referral_for_testing/real_hsqc_noisy/Artemisinin_noisy_1.png\n"
     ]
    },
    {
     "name": "stderr",
     "output_type": "stream",
     "text": [
      " 77%|███████▋  | 40/52 [00:34<00:11,  1.02it/s]"
     ]
    },
    {
     "name": "stdout",
     "output_type": "stream",
     "text": [
      "processing : /root/autoencoder_denoiser/dataset/real_img_referral_for_testing/real_hsqc_noisy/Quercetin_HSQC_noisy_1.png\n"
     ]
    },
    {
     "name": "stderr",
     "output_type": "stream",
     "text": [
      " 79%|███████▉  | 41/52 [00:35<00:10,  1.04it/s]"
     ]
    },
    {
     "name": "stdout",
     "output_type": "stream",
     "text": [
      "processing : /root/autoencoder_denoiser/dataset/real_img_referral_for_testing/real_hsqc_noisy/Reserpine_noisy_1.png\n"
     ]
    },
    {
     "name": "stderr",
     "output_type": "stream",
     "text": [
      " 85%|████████▍ | 44/52 [00:37<00:07,  1.06it/s]"
     ]
    },
    {
     "name": "stdout",
     "output_type": "stream",
     "text": [
      "processing : /root/autoencoder_denoiser/dataset/real_img_referral_for_testing/real_hsqc_noisy/Quercetin_noisy_1.png\n"
     ]
    },
    {
     "name": "stderr",
     "output_type": "stream",
     "text": [
      " 96%|█████████▌| 50/52 [00:42<00:01,  1.13it/s]"
     ]
    },
    {
     "name": "stdout",
     "output_type": "stream",
     "text": [
      "processing : /root/autoencoder_denoiser/dataset/real_img_referral_for_testing/real_hsqc_noisy/Palmitic acid_noisy_1.png\n"
     ]
    },
    {
     "name": "stderr",
     "output_type": "stream",
     "text": [
      "100%|██████████| 52/52 [00:47<00:00,  1.09it/s]"
     ]
    },
    {
     "name": "stdout",
     "output_type": "stream",
     "text": [
      "saving train_stage_1\n"
     ]
    },
    {
     "name": "stderr",
     "output_type": "stream",
     "text": [
      "\n"
     ]
    }
   ],
   "source": [
    "import random\n",
    "eighty_percent = int(len(all_img_paths)*0.8)\n",
    "nighty_percent = int(len(all_img_paths)*0.9)\n",
    "random.shuffle(all_img_paths)\n",
    "train_img_paths = all_img_paths[:eighty_percent]\n",
    "val_img_paths = all_img_paths[eighty_percent:nighty_percent]\n",
    "test_img_paths = all_img_paths[nighty_percent:]\n",
    "\n",
    "train_imgs=[]\n",
    "val_imgs=[]\n",
    "test_imgs = []\n",
    "##### train split\n",
    "for splitted_imgs, splitted_img_paths, split in [(train_imgs, train_img_paths, 'train')   ]:\n",
    "    for stage in range(6,0,-1):\n",
    "        print(f'stage : {stage}')\n",
    "        for img_path in tqdm(splitted_img_paths):\n",
    "            noise_level = img_path.split('.')[0].split('_')[-1]\n",
    "\n",
    "            in_range = stage == int(noise_level) or (stage ==6 and int(noise_level)>=6)\n",
    "            if in_range:\n",
    "                print(f'processing : {img_path}')\n",
    "                '''noise'''\n",
    "                img = Image.open(img_path)\n",
    "                img = np.array(img)\n",
    "                plus = 1-img[:,:, 0]/255 # I will assume this is plus but not sure\n",
    "                minus = 1-img[:,:, 2]/255\n",
    "                # print(plus.shape)\n",
    "                img_result = plus-minus\n",
    "                resized_input = cv2.resize(img_result.astype(\"float32\"), (120, 180))\n",
    "                '''ground truth'''\n",
    "                ground_path = img_path.replace(\"real_hsqc_noisy\",\"real_hsqc_clean\").replace(\"_noisy\",\"_original\")\n",
    "                ground_path = ground_path[:-5] + '1.png'\n",
    "                if ground_path[-6].isdigit():\n",
    "                    # print(ground_path)\n",
    "                    ground_path = ground_path[:-6]+ground_path[-5:]\n",
    "                # print(gound_path)\n",
    "                img = Image.open(ground_path)\n",
    "                img = np.array(img)\n",
    "                plus_groud = 1-img[:,:, 0]/255 # I will assume this is plus but not sure\n",
    "                minus_groud = 1-img[:,:, 2]/255\n",
    "                ground_truth = plus_groud - minus_groud\n",
    "                ground_truth = cv2.resize(ground_truth.astype(\"float32\"), (120, 180))\n",
    "                splitted_imgs.append((resized_input, ground_truth))\n",
    "        np.save(f'/root/autoencoder_denoiser/dataset/save_real_imgs_in_stages/{split}_stage_{stage}.npy', splitted_imgs, allow_pickle=True)\n",
    "        print(f'saving {split}_stage_{stage}')\n",
    "        "
   ]
  },
  {
   "cell_type": "code",
   "execution_count": null,
   "metadata": {},
   "outputs": [],
   "source": []
  },
  {
   "cell_type": "code",
   "execution_count": 9,
   "metadata": {},
   "outputs": [
    {
     "name": "stdout",
     "output_type": "stream",
     "text": [
      "stage : 10\n"
     ]
    },
    {
     "name": "stderr",
     "output_type": "stream",
     "text": [
      "  0%|          | 0/65 [00:00<?, ?it/s]"
     ]
    },
    {
     "name": "stdout",
     "output_type": "stream",
     "text": [
      "processing : /root/autoencoder_denoiser/dataset/real_img_referral_for_testing/real_hsqc_noisy/Erythromycin_noisy_10.png\n"
     ]
    },
    {
     "name": "stderr",
     "output_type": "stream",
     "text": [
      "100%|██████████| 65/65 [00:05<00:00, 11.00it/s]\n"
     ]
    },
    {
     "name": "stdout",
     "output_type": "stream",
     "text": [
      "stage : 9\n"
     ]
    },
    {
     "name": "stderr",
     "output_type": "stream",
     "text": [
      "  0%|          | 0/65 [00:00<?, ?it/s]"
     ]
    },
    {
     "name": "stdout",
     "output_type": "stream",
     "text": [
      "processing : /root/autoencoder_denoiser/dataset/real_img_referral_for_testing/real_hsqc_noisy/Erythromycin_noisy_9.png\n"
     ]
    },
    {
     "name": "stderr",
     "output_type": "stream",
     "text": [
      "100%|██████████| 65/65 [00:05<00:00, 11.17it/s]\n"
     ]
    },
    {
     "name": "stdout",
     "output_type": "stream",
     "text": [
      "stage : 8\n"
     ]
    },
    {
     "name": "stderr",
     "output_type": "stream",
     "text": [
      "  0%|          | 0/65 [00:00<?, ?it/s]"
     ]
    },
    {
     "name": "stdout",
     "output_type": "stream",
     "text": [
      "processing : /root/autoencoder_denoiser/dataset/real_img_referral_for_testing/real_hsqc_noisy/Erythromycin_noisy_8.png\n"
     ]
    },
    {
     "name": "stderr",
     "output_type": "stream",
     "text": [
      "100%|██████████| 65/65 [00:06<00:00, 10.42it/s]\n"
     ]
    },
    {
     "name": "stdout",
     "output_type": "stream",
     "text": [
      "stage : 7\n"
     ]
    },
    {
     "name": "stderr",
     "output_type": "stream",
     "text": [
      "  0%|          | 0/65 [00:00<?, ?it/s]"
     ]
    },
    {
     "name": "stdout",
     "output_type": "stream",
     "text": [
      "processing : /root/autoencoder_denoiser/dataset/real_img_referral_for_testing/real_hsqc_noisy/Menthol_noisy_7.png\n"
     ]
    },
    {
     "name": "stderr",
     "output_type": "stream",
     "text": [
      "  8%|▊         | 5/65 [00:06<01:13,  1.23s/it]"
     ]
    },
    {
     "name": "stdout",
     "output_type": "stream",
     "text": [
      "processing : /root/autoencoder_denoiser/dataset/real_img_referral_for_testing/real_hsqc_noisy/Erythromycin_noisy_7.png\n"
     ]
    },
    {
     "name": "stderr",
     "output_type": "stream",
     "text": [
      "100%|██████████| 65/65 [00:12<00:00,  5.38it/s]\n"
     ]
    },
    {
     "name": "stdout",
     "output_type": "stream",
     "text": [
      "stage : 6\n"
     ]
    },
    {
     "name": "stderr",
     "output_type": "stream",
     "text": [
      "  0%|          | 0/65 [00:00<?, ?it/s]"
     ]
    },
    {
     "name": "stdout",
     "output_type": "stream",
     "text": [
      "processing : /root/autoencoder_denoiser/dataset/real_img_referral_for_testing/real_hsqc_noisy/Artemisinin_noisy_6.png\n"
     ]
    },
    {
     "name": "stderr",
     "output_type": "stream",
     "text": [
      " 18%|█▊        | 12/65 [00:05<00:25,  2.06it/s]"
     ]
    },
    {
     "name": "stdout",
     "output_type": "stream",
     "text": [
      "processing : /root/autoencoder_denoiser/dataset/real_img_referral_for_testing/real_hsqc_noisy/Erythromycin_noisy_6.png\n"
     ]
    },
    {
     "name": "stderr",
     "output_type": "stream",
     "text": [
      " 46%|████▌     | 30/65 [00:11<00:13,  2.68it/s]"
     ]
    },
    {
     "name": "stdout",
     "output_type": "stream",
     "text": [
      "processing : /root/autoencoder_denoiser/dataset/real_img_referral_for_testing/real_hsqc_noisy/Menthol_noisy_6.png\n"
     ]
    },
    {
     "name": "stderr",
     "output_type": "stream",
     "text": [
      "100%|██████████| 65/65 [00:17<00:00,  3.67it/s]\n"
     ]
    }
   ],
   "source": [
    "##### val , test split\n",
    "for splitted_imgs, splitted_img_paths, split in [(val_imgs, val_img_paths, 'val'), \n",
    "                                                 (test_imgs, test_img_paths, 'test')]:\n",
    " \n",
    "        for img_path in tqdm(splitted_img_paths):\n",
    "\n",
    "                print(f'processing : {img_path}')\n",
    "                '''noise'''\n",
    "                img = Image.open(img_path)\n",
    "                img = np.array(img)\n",
    "                plus = 1-img[:,:, 0]/255 # I will assume this is plus but not sure\n",
    "                minus = 1-img[:,:, 2]/255\n",
    "                # print(plus.shape)\n",
    "                img_result = plus-minus\n",
    "                resized_input = cv2.resize(img_result.astype(\"float32\"), (120, 180))\n",
    "                '''ground truth'''\n",
    "                ground_path = img_path.replace(\"real_hsqc_noisy\",\"real_hsqc_clean\").replace(\"_noisy\",\"_original\")\n",
    "                ground_path = ground_path[:-5] + '1.png'\n",
    "                if ground_path[-6].isdigit():\n",
    "                    # print(ground_path)\n",
    "                    ground_path = ground_path[:-6]+ground_path[-5:]\n",
    "                # print(gound_path)\n",
    "                img = Image.open(ground_path)\n",
    "                img = np.array(img)\n",
    "                plus_groud = 1-img[:,:, 0]/255 # I will assume this is plus but not sure\n",
    "                minus_groud = 1-img[:,:, 2]/255\n",
    "                ground_truth = plus_groud - minus_groud\n",
    "                ground_truth = cv2.resize(ground_truth.astype(\"float32\"), (120, 180))\n",
    "                splitted_imgs.append((resized_input, ground_truth))\n",
    "        np.save(f'/root/autoencoder_denoiser/dataset/save_real_imgs_in_stages/{split}.npy', splitted_imgs, allow_pickle=True)\n",
    "        print(f'saving {split}_stage_{stage}')"
   ]
  },
  {
   "cell_type": "code",
   "execution_count": 10,
   "metadata": {},
   "outputs": [
    {
     "name": "stdout",
     "output_type": "stream",
     "text": [
      "65\n",
      "53\n",
      "41\n",
      "29\n",
      "17\n",
      "8\n"
     ]
    }
   ],
   "source": [
    "for i in range(1, 7):\n",
    "    with open(f'/root/autoencoder_denoiser/dataset/save_real_imgs_in_stages/stage_{i}.pkl', 'rb') as f:\n",
    "        img_loaded =  pickle.load(f)\n",
    "    print(len(img_loaded))\n",
    "        "
   ]
  },
  {
   "cell_type": "code",
   "execution_count": null,
   "metadata": {},
   "outputs": [],
   "source": [
    "'''data leak'''\n",
    "'''first split into train val test, and then multistage'''"
   ]
  }
 ],
 "metadata": {
  "kernelspec": {
   "display_name": "base",
   "language": "python",
   "name": "python3"
  },
  "language_info": {
   "codemirror_mode": {
    "name": "ipython",
    "version": 3
   },
   "file_extension": ".py",
   "mimetype": "text/x-python",
   "name": "python",
   "nbconvert_exporter": "python",
   "pygments_lexer": "ipython3",
   "version": "3.8.12"
  },
  "orig_nbformat": 4
 },
 "nbformat": 4,
 "nbformat_minor": 2
}
