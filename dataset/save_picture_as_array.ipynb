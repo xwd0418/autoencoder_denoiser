{
 "cells": [
  {
   "cell_type": "code",
   "execution_count": 1,
   "metadata": {},
   "outputs": [
    {
     "name": "stderr",
     "output_type": "stream",
     "text": [
      "100%|██████████| 60/60 [08:50<00:00,  8.85s/it]\n"
     ]
    }
   ],
   "source": [
    "import os,sys\n",
    "from glob import glob\n",
    "import cv2\n",
    "import pandas as pd\n",
    "import numpy as np\n",
    "from tqdm import tqdm\n",
    "import matplotlib.pyplot as plt\n",
    "from PIL import Image\n",
    "\n",
    "\n",
    "img_dir = \"/root/autoencoder_denoiser/dataset/real_img_referral_for_testing\"\n",
    "clean_dir = os.path.join(img_dir, \"real_hsqc_clean\")\n",
    "noisy_dir = os.path.join(img_dir, \"real_hsqc_noisy\")\n",
    "imgs_resized=[]\n",
    "imgs_orig_size=[]\n",
    "all_img_paths = (glob(noisy_dir+\"/*\"))\n",
    "\n",
    "save_dir_resize = f'/root/autoencoder_denoiser/dataset/resized_real_imgs/'\n",
    "save_dir_orig_size = f'/root/autoencoder_denoiser/dataset/orig_size_real_imgs/'\n",
    "os.makedirs(save_dir_resize, exist_ok=True)\n",
    "os.makedirs(save_dir_orig_size, exist_ok=True)\n",
    "\n",
    "last_compound_name = ''\n",
    "for img_path in tqdm(all_img_paths):\n",
    "    noise_level = img_path.split('/')[-1].split('_')[-1]\n",
    "    compound_name = img_path.split('/')[-1].split('_')[0]\n",
    "   \n",
    "\n",
    "    '''ground truth'''\n",
    "    path = img_path.replace(\"real_hsqc_noisy\",\"real_hsqc_clean\").replace(\"_noisy\",\"_original\")\n",
    "    path = path[:-5] + '1.png'\n",
    "    if path[-6].isdigit():\n",
    "        # print(ground_path)\n",
    "        path = path[:-6]+path[-5:]\n",
    "    # print(gound_path)\n",
    "    img = Image.open(path)\n",
    "    img = np.array(img)\n",
    "    plus_groud = 1-img[:,:, 0]/255 # I will assume this is plus but not sure\n",
    "    minus_groud = 1-img[:,:, 2]/255\n",
    "    ground_truth = (plus_groud - minus_groud).astype(\"float32\")\n",
    "    img_truth = cv2.resize(ground_truth.astype(\"float32\"), (120, 180))\n",
    "   \n",
    "    \n",
    "    '''noise'''\n",
    "    img = Image.open(img_path)\n",
    "    img = np.array(img)\n",
    "    plus = 1-img[:,:, 0]/255 # I will assume this is plus but not sure\n",
    "    minus = 1-img[:,:, 2]/255\n",
    "    # print(plus.shape)\n",
    "    noise_input = (plus-minus).astype('float32')\n",
    "    resized_input = cv2.resize(noise_input.astype(\"float32\"), (120, 180))\n",
    "    # noise_level = img_path.split('/')[-1].split('_')[-1]\n",
    "    \n",
    "    name = img_path.split(\"/\")[-1].split(\".\")[0]\n",
    "    np.savez_compressed(f'{save_dir_resize}/{compound_name}_{noise_level}.npz', noise=resized_input, ground_truth=img_truth, name = name )\n",
    "    np.savez_compressed(f'{save_dir_orig_size}/{compound_name}_{noise_level}.npz', noise=noise_input, ground_truth=ground_truth, name = name)\n",
    "    \n",
    "\n",
    "    # imgs_resized.append((resized_input,ground_truth_resized ))\n",
    "    # imgs_orig_size.append((img_result, ground_truth))\n"
   ]
  },
  {
   "cell_type": "code",
   "execution_count": null,
   "metadata": {},
   "outputs": [],
   "source": [
    "# np.save('/root/autoencoder_denoiser/dataset/resized_imgs_as_array.npy', np.array(imgs_resized, dtype=object), allow_pickle=True)\n",
    "# np.save('/root/autoencoder_denoiser/dataset/resized_imgs_as_array.npy', np.array(imgs_orig_size, dtype=object), allow_pickle=True)\n",
    "real_img_data_dir = f'/root/autoencoder_denoiser/dataset/resized_real_imgs/'\n",
    "paths =  glob(real_img_data_dir+\"*\")\n",
    "loaded_data = np.load(paths[0])\n"
   ]
  },
  {
   "cell_type": "code",
   "execution_count": 8,
   "metadata": {},
   "outputs": [
    {
     "data": {
      "text/plain": [
       "<numpy.lib.npyio.NpzFile at 0x7f2c98d7e550>"
      ]
     },
     "execution_count": 8,
     "metadata": {},
     "output_type": "execute_result"
    }
   ],
   "source": [
    "import numpy as np\n",
    "saved_stuff = (np.array([1,2,3]), np.array([11,22,33]))\n",
    "np.savez_compressed('/root/autoencoder_denoiser/dataset/test.npz', *saved_stuff)\n",
    "b = np.load('/root/autoencoder_denoiser/dataset/test.npz')\n",
    "b\n",
    "# NONOOONONONON, still PICKLE"
   ]
  },
  {
   "cell_type": "code",
   "execution_count": 9,
   "metadata": {},
   "outputs": [
    {
     "data": {
      "text/plain": [
       "array([[ 1,  2,  3],\n",
       "       [11, 22, 33]])"
      ]
     },
     "execution_count": 9,
     "metadata": {},
     "output_type": "execute_result"
    }
   ],
   "source": [
    "b['arr_0']"
   ]
  },
  {
   "cell_type": "code",
   "execution_count": 4,
   "metadata": {},
   "outputs": [
    {
     "name": "stderr",
     "output_type": "stream",
     "text": [
      "/tmp/ipykernel_10621/1825783255.py:3: DeprecationWarning: `np.float` is a deprecated alias for the builtin `float`. To silence this warning, use `float` by itself. Doing this will not modify any behavior and is safe. If you specifically wanted the numpy scalar type, use `np.float64` here.\n",
      "Deprecated in NumPy 1.20; for more details and guidance: https://numpy.org/devdocs/release/1.20.0-notes.html#deprecations\n",
      "  return np.float(50.0 * (high - low) / (1.0 + np.exp(-alpha*iter_num / max_iter)) - (high - low) + low)\n"
     ]
    },
    {
     "data": {
      "text/plain": [
       "[<matplotlib.lines.Line2D at 0x7f7a1ee53820>]"
      ]
     },
     "execution_count": 4,
     "metadata": {},
     "output_type": "execute_result"
    },
    {
     "data": {
      "image/png": "[encoded data removed]",
      "text/plain": [
       "<Figure size 432x288 with 1 Axes>"
      ]
     },
     "metadata": {
      "needs_background": "light"
     },
     "output_type": "display_data"
    }
   ],
   "source": [
    "import numpy as np\n",
    "def calc_coeff(iter_num, high=1.0, low=0.0, alpha=10.0, max_iter=1000.0):\n",
    "    return np.float(50.0 * (high - low) / (1.0 + np.exp(-alpha*iter_num / max_iter)) - (high - low) + low)\n",
    "\n",
    "a=[]\n",
    "for i in range(1000):\n",
    "    a.append(calc_coeff(i))\n",
    "a = np.array(a)\n",
    "import matplotlib.pyplot as plt\n",
    "plt.plot(a)\n"
   ]
  },
  {
   "cell_type": "code",
   "execution_count": null,
   "metadata": {},
   "outputs": [],
   "source": []
  },
  {
   "cell_type": "code",
   "execution_count": 1,
   "metadata": {},
   "outputs": [],
   "source": [
    "'''mv files'''\n",
    "import os, shutil\n",
    "img_dir = \"/root/autoencoder_denoiser/dataset/real_img_referral_for_testing\"\n",
    "toghther_dir = '/root/autoencoder_denoiser/dataset/real_img_referral_for_testing/bitmap_all_together'\n",
    "clean_dir = os.path.join(img_dir, \"bitmap_real_hsqc_clean\")\n",
    "noisy_dir = os.path.join(img_dir, \"bitmap_real_hsqc_noisy\")\n",
    "os.makedirs(clean_dir , exist_ok=True)\n",
    "os.makedirs(noisy_dir , exist_ok=True)"
   ]
  },
  {
   "cell_type": "code",
   "execution_count": 6,
   "metadata": {},
   "outputs": [],
   "source": [
    "import glob\n",
    "for f in glob.glob(toghther_dir+'/*'):\n",
    "    if f.split(\"_\")[-2]==\"noisy\":\n",
    "        shutil.move(f ,noisy_dir)\n",
    "    elif f.split(\"_\")[-2]==\"original\":\n",
    "        shutil.move(f ,clean_dir)\n",
    "    else:\n",
    "        print(f)"
   ]
  },
  {
   "cell_type": "code",
   "execution_count": 2,
   "metadata": {},
   "outputs": [
    {
     "name": "stderr",
     "output_type": "stream",
     "text": [
      " 10%|█         | 6/60 [00:09<01:24,  1.57s/it]\n"
     ]
    }
   ],
   "source": [
    "\"\"\" I will copy the code above to generate npz file for bitmap hsqc\"\"\"\n",
    "import os, shutil\n",
    "img_dir = \"/root/autoencoder_denoiser/dataset/real_img_referral_for_testing\"\n",
    "toghther_dir = '/root/autoencoder_denoiser/dataset/real_img_referral_for_testing/bitmap_all_together'\n",
    "clean_dir = os.path.join(img_dir, \"bitmap_real_hsqc_clean\")\n",
    "noisy_dir = os.path.join(img_dir, \"bitmap_real_hsqc_noisy\")\n",
    "\n",
    "import os,sys\n",
    "from glob import glob\n",
    "import cv2\n",
    "import pandas as pd\n",
    "import numpy as np\n",
    "from tqdm import tqdm\n",
    "import matplotlib.pyplot as plt\n",
    "from PIL import Image\n",
    "\n",
    "\n",
    "\n",
    "imgs_resized=[]\n",
    "imgs_orig_size=[]\n",
    "all_img_paths = (glob(noisy_dir+\"/*\"))\n",
    "\n",
    "save_dir_resize = f'/root/autoencoder_denoiser/dataset/resized_real_imgs_bitmap/'\n",
    "save_dir_orig_size = f'/root/autoencoder_denoiser/dataset/orig_size_real_imgs_bitmap/'\n",
    "os.makedirs(save_dir_resize, exist_ok=True)\n",
    "os.makedirs(save_dir_orig_size, exist_ok=True)\n",
    "\n",
    "last_compound_name = ''\n",
    "iter = 0\n",
    "for img_path in tqdm(all_img_paths):\n",
    "    iter+=1\n",
    "    noise_level = img_path.split('/')[-1].split('_')[-1]\n",
    "    noise_level = noise_level[:-4]\n",
    "    compound_name = img_path.split('/')[-1].split('_')[0]\n",
    "   \n",
    "\n",
    "    '''ground truth'''\n",
    "    path = img_path.replace(\"real_hsqc_noisy\",\"real_hsqc_clean\").replace(\"_noisy\",\"_original\")\n",
    "    path = path[:-5] + '1.png'\n",
    "    if path[-6].isdigit():\n",
    "        # print(ground_path)\n",
    "        path = path[:-6]+path[-5:]\n",
    "    # print(gound_path)\n",
    "    img = cv2.imread(path)\n",
    "    img_truth = cv2.cvtColor(img, cv2.COLOR_BGR2RGB)\n",
    "    # print(\"ground truth shape\",img_truth.shape)\n",
    "    img_truth = cv2.resize(img_truth.astype(\"float32\"), (120, 180))\n",
    "    \n",
    "    plus_groud = 1-img_truth[:,:, 0]/255 # I will assume this is plus but not sure\n",
    "    minus_groud = 1-img_truth[:,:, 2]/255\n",
    "                        # ground_truth = plus_groud - minus_groud\n",
    "    # norm_image = cv2.normalize(image, None, alpha = 0, beta = 255, norm_type = cv2.NORM_MINMAX, dtype = cv2.CV_32F)\n",
    "\n",
    "   \n",
    "    \n",
    "                                # '''noise'''\n",
    "                                # img = Image.open(img_path)\n",
    "                                # img = np.array(img)\n",
    "                                #                     # plus = 1-img[:,:, 0]/255 # I will assume this is plus but not sure\n",
    "                                #                     # minus = 1-img[:,:, 2]/255\n",
    "                                #                     # # print(plus.shape)\n",
    "                                #                     # noise_input = plus-minus\n",
    "                                #                     # resized_input = cv2.resize(noise_input.astype(\"float32\"), (120, 180))\n",
    "                                #                     # # noise_level = img_path.split('/')[-1].split('_')[-1]\n",
    "                                # # print(\"noise shape\",img.shape)\n",
    "                                # print(noise_level)\n",
    "                                # noise_resized = cv2.resize(img.astype(\"float32\"), (120, 180))\n",
    "                                \n",
    "                                # # np.savez_compressed(f'{save_dir_resize}/{compound_name}_{noise_level}.npz', noise=resized_input, ground_truth=ground_truth_resized)\n",
    "                                # # np.savez_compressed(f'{save_dir_orig_size}/{compound_name}_{noise_level}.npz', noise=noise_input, ground_truth=ground_truth)\n",
    "                                \n",
    "\n",
    "                                # # imgs_resized.append((resized_input,ground_truth_resized ))\n",
    "                                # # imgs_orig_size.append((img_result, ground_truth))\n",
    "                                \n",
    "    if iter ==7 : break\n"
   ]
  },
  {
   "cell_type": "code",
   "execution_count": 11,
   "metadata": {},
   "outputs": [
    {
     "name": "stderr",
     "output_type": "stream",
     "text": [
      "Clipping input data to the valid range for imshow with RGB data ([0..1] for floats or [0..255] for integers).\n",
      "Clipping input data to the valid range for imshow with RGB data ([0..1] for floats or [0..255] for integers).\n",
      "Clipping input data to the valid range for imshow with RGB data ([0..1] for floats or [0..255] for integers).\n",
      "Clipping input data to the valid range for imshow with RGB data ([0..1] for floats or [0..255] for integers).\n",
      "Clipping input data to the valid range for imshow with RGB data ([0..1] for floats or [0..255] for integers).\n"
     ]
    },
    {
     "name": "stdout",
     "output_type": "stream",
     "text": [
      "(180, 120, 3)\n"
     ]
    },
    {
     "data": {
      "text/plain": [
       "<matplotlib.image.AxesImage at 0x7f34273c10a0>"
      ]
     },
     "execution_count": 11,
     "metadata": {},
     "output_type": "execute_result"
    },
    {
     "data": {
      "image/png": "[encoded data removed]",
      "text/plain": [
       "<Figure size 2160x6480 with 5 Axes>"
      ]
     },
     "metadata": {
      "needs_background": "light"
     },
     "output_type": "display_data"
    }
   ],
   "source": [
    "plt.rcParams[\"figure.figsize\"] = (30,90)\n",
    "print(img_truth.shape)\n",
    "figure, plots = plt.subplots(ncols=5, nrows=1)\n",
    "plots[0].imshow(img_truth)\n",
    "\n",
    "cp1 = np.copy(img_truth)\n",
    "cp1[:,:,2] = 0\n",
    "cp1[:,:,1] = 0\n",
    "plots[1].imshow(cp1)\n",
    "\n",
    "cp2 = np.copy(img_truth)\n",
    "cp2[:,:,0] = 0\n",
    "cp2[:,:,2] = 0\n",
    "plots[2].imshow(cp2)\n",
    "\n",
    "cp3 = np.copy(img_truth)\n",
    "cp3[:,:,0] = 0\n",
    "cp3[:,:,1] = 0\n",
    "plots[3].imshow(cp3)\n",
    "\n",
    "cp4 = np.copy(img_truth)\n",
    "cp4[:,:,1] = 0\n",
    "plots[4].imshow(cp4)\n",
    "# plots[3].imshow(ground_truth_resized[:,:,2])\n"
   ]
  },
  {
   "cell_type": "code",
   "execution_count": 21,
   "metadata": {},
   "outputs": [
    {
     "name": "stderr",
     "output_type": "stream",
     "text": [
      "Clipping input data to the valid range for imshow with RGB data ([0..1] for floats or [0..255] for integers).\n",
      "Clipping input data to the valid range for imshow with RGB data ([0..1] for floats or [0..255] for integers).\n",
      "Clipping input data to the valid range for imshow with RGB data ([0..1] for floats or [0..255] for integers).\n",
      "Clipping input data to the valid range for imshow with RGB data ([0..1] for floats or [0..255] for integers).\n",
      "Clipping input data to the valid range for imshow with RGB data ([0..1] for floats or [0..255] for integers).\n"
     ]
    },
    {
     "name": "stdout",
     "output_type": "stream",
     "text": [
      "(180, 120, 3)\n"
     ]
    },
    {
     "data": {
      "text/plain": [
       "<matplotlib.image.AxesImage at 0x7f3425e84d30>"
      ]
     },
     "execution_count": 21,
     "metadata": {},
     "output_type": "execute_result"
    },
    {
     "data": {
      "image/png": "[encoded data removed]",
      "text/plain": [
       "<Figure size 2160x6480 with 5 Axes>"
      ]
     },
     "metadata": {
      "needs_background": "light"
     },
     "output_type": "display_data"
    }
   ],
   "source": [
    "plt.rcParams[\"figure.figsize\"] = (30,90)\n",
    "print(img_truth.shape)\n",
    "figure, plots = plt.subplots(ncols=5, nrows=1)\n",
    "plots[0].imshow(img_truth)\n",
    "\n",
    "R, G, B = img_truth[:,:,0], img_truth[:,:,1], img_truth[:,:,2]\n",
    "# d1=np.abs(R-G)<10\n",
    "# d2=np.abs(B-G)<10\n",
    "# d3=np.abs(R-B)<10\n",
    "d1 = R>100\n",
    "d2= G>100\n",
    "d3 = B>100\n",
    "white_pos = np.logical_and(np.logical_and(d1,d2), d3)\n",
    "\n",
    "\n",
    "cp1 = np.copy(img_truth)\n",
    "cp1[:,:,2] = 0\n",
    "cp1[:,:,1] = 0\n",
    "plots[1].imshow(cp1)\n",
    "\n",
    "cp2 = np.copy(img_truth)\n",
    "cp2[:,:,0] = 0\n",
    "cp2[:,:,2] = 0\n",
    "plots[2].imshow(cp2)\n",
    "\n",
    "cp3 = np.copy(img_truth)\n",
    "cp3[:,:,0] = 0\n",
    "cp3[:,:,1] = 0\n",
    "plots[3].imshow(cp3)\n",
    "\n",
    "cp4 = np.copy(img_truth)\n",
    "cp4[:,:,0][white_pos]=0\n",
    "cp4[:,:,1][white_pos]=0\n",
    "cp4[:,:,2][white_pos]=0\n",
    "\n",
    "plots[4].imshow(cp4)\n",
    "# plots[3].imshow(ground_truth_resized[:,:,2])\n"
   ]
  },
  {
   "cell_type": "code",
   "execution_count": null,
   "metadata": {},
   "outputs": [],
   "source": [
    "red_sig = 255-cp1[0]\n",
    "green = 255-cp2[1]\n"
   ]
  },
  {
   "cell_type": "code",
   "execution_count": 44,
   "metadata": {},
   "outputs": [
    {
     "name": "stdout",
     "output_type": "stream",
     "text": [
      "(180, 120, 3)\n"
     ]
    },
    {
     "name": "stderr",
     "output_type": "stream",
     "text": [
      "Clipping input data to the valid range for imshow with RGB data ([0..1] for floats or [0..255] for integers).\n",
      "Clipping input data to the valid range for imshow with RGB data ([0..1] for floats or [0..255] for integers).\n",
      "Clipping input data to the valid range for imshow with RGB data ([0..1] for floats or [0..255] for integers).\n",
      "Clipping input data to the valid range for imshow with RGB data ([0..1] for floats or [0..255] for integers).\n"
     ]
    },
    {
     "data": {
      "text/plain": [
       "<matplotlib.image.AxesImage at 0x7f342591aac0>"
      ]
     },
     "execution_count": 44,
     "metadata": {},
     "output_type": "execute_result"
    },
    {
     "data": {
      "image/png": "[encoded data removed]",
      "text/plain": [
       "<Figure size 2160x6480 with 6 Axes>"
      ]
     },
     "metadata": {
      "needs_background": "light"
     },
     "output_type": "display_data"
    }
   ],
   "source": [
    "import matplotlib.image\n",
    "clist = [(0,\"darkblue\"), (0.5,\"white\"), (1, \"darkred\")]\n",
    "custom_HSQC_cmap = matplotlib.colors.LinearSegmentedColormap.from_list(\"_\",clist)\n",
    "plt.rcParams[\"figure.figsize\"] = (30,90)\n",
    "print(img_truth.shape)\n",
    "figure, plots = plt.subplots(ncols=6, nrows=1)\n",
    "plots[0].imshow(img_truth)\n",
    "\n",
    "cp1 = np.copy(img_truth)\n",
    "blue_pos = np.logical_or( cp1[:,:,0]<255 ,  cp1[:,:,1]<255)\n",
    "cp1[:,:,0][blue_pos] =255\n",
    "cp1[:,:,1][blue_pos] =255\n",
    "# cp1[:,:,2] = 255 # blue should be white\n",
    "# # cp1[:,:,1] = 255\n",
    "# cp1[:,:,1][cp1[:,:,1]==255] = 255 \n",
    "plots[1].imshow(cp1)\n",
    "\n",
    "cp2 = np.copy(img_truth)\n",
    "cp2[:,:,0] = 255\n",
    "cp2[:,:,2] = 255\n",
    "plots[2].imshow(cp2)\n",
    "\n",
    "cp3 = np.copy(img_truth)\n",
    "cp3[:,:,0] = 0\n",
    "cp3[:,:,1] = 0\n",
    "plots[3].imshow(cp3)\n",
    "\n",
    "avg3= (0.2989*cp3[:,:,0]+0.5870 *cp3[:,:,1]+0.1140 * cp3[:,:,2])\n",
    "\n",
    "plots[4].imshow(avg3)\n",
    "\n",
    "cp3[:,:,2][cp3[:,:,2]>0] = 255\n",
    "plots[5].imshow(cp3[:,:,2])\n",
    "# plots[3].imshow(ground_truth_resized[:,:,2])\n"
   ]
  },
  {
   "cell_type": "code",
   "execution_count": 45,
   "metadata": {},
   "outputs": [
    {
     "name": "stderr",
     "output_type": "stream",
     "text": [
      "Clipping input data to the valid range for imshow with RGB data ([0..1] for floats or [0..255] for integers).\n",
      "Clipping input data to the valid range for imshow with RGB data ([0..1] for floats or [0..255] for integers).\n",
      "Clipping input data to the valid range for imshow with RGB data ([0..1] for floats or [0..255] for integers).\n",
      "Clipping input data to the valid range for imshow with RGB data ([0..1] for floats or [0..255] for integers).\n"
     ]
    },
    {
     "name": "stdout",
     "output_type": "stream",
     "text": [
      "(180, 120, 3)\n"
     ]
    },
    {
     "data": {
      "text/plain": [
       "<matplotlib.image.AxesImage at 0x7f3422ad0430>"
      ]
     },
     "execution_count": 45,
     "metadata": {},
     "output_type": "execute_result"
    },
    {
     "data": {
      "image/png": "[encoded data removed]",
      "text/plain": [
       "<Figure size 2160x6480 with 6 Axes>"
      ]
     },
     "metadata": {
      "needs_background": "light"
     },
     "output_type": "display_data"
    }
   ],
   "source": [
    "import matplotlib.image\n",
    "clist = [(0,\"darkblue\"), (0.5,\"white\"), (1, \"darkred\")]\n",
    "custom_HSQC_cmap = matplotlib.colors.LinearSegmentedColormap.from_list(\"_\",clist)\n",
    "plt.rcParams[\"figure.figsize\"] = (30,90)\n",
    "print(img_truth.shape)\n",
    "figure, plots = plt.subplots(ncols=6, nrows=1)\n",
    "plots[0].imshow(img_truth[12:17,110:115,:])\n",
    "\n",
    "cp1 = np.copy(img_truth)\n",
    "blue_pos = np.logical_or( cp1[:,:,0]<255 ,  cp1[:,:,1]<255)\n",
    "cp1[:,:,0][blue_pos] =255\n",
    "cp1[:,:,1][blue_pos] =255\n",
    "# cp1[:,:,2] = 255 # blue should be white\n",
    "# # cp1[:,:,1] = 255\n",
    "# cp1[:,:,1][cp1[:,:,1]==255] = 255 \n",
    "plots[1].imshow(cp1)\n",
    "\n",
    "cp2 = np.copy(img_truth)\n",
    "cp2[:,:,0] = 255\n",
    "cp2[:,:,2] = 255\n",
    "plots[2].imshow(cp2)\n",
    "\n",
    "cp3 = np.copy(img_truth)\n",
    "cp3[:,:,0] = 0\n",
    "cp3[:,:,1] = 0\n",
    "plots[3].imshow(cp3[12:17,110:115,:])\n",
    "\n",
    "avg3= (0.2989*cp3[:,:,0]+0.5870 *cp3[:,:,1]+0.1140 * cp3[:,:,2])\n",
    "\n",
    "plots[4].imshow(avg3[12:17,110:115])\n",
    "\n",
    "\n",
    "plots[5].imshow(cp3[12:17,110:115,2])\n",
    "# plots[3].imshow(ground_truth_resized[:,:,2])\n"
   ]
  },
  {
   "cell_type": "code",
   "execution_count": 46,
   "metadata": {},
   "outputs": [
    {
     "data": {
      "text/plain": [
       "array([[[255.      , 255.      , 255.      ],\n",
       "        [255.      , 255.      , 255.      ],\n",
       "        [255.      , 255.      , 255.      ],\n",
       "        [255.      , 255.      , 255.      ],\n",
       "        [255.      , 255.      , 255.      ]],\n",
       "\n",
       "       [[252.26666 , 239.23334 , 239.23334 ],\n",
       "        [198.      , 126.5     , 126.5     ],\n",
       "        [255.      , 218.      , 218.      ],\n",
       "        [255.      , 255.      , 255.      ],\n",
       "        [255.      , 255.      , 255.      ]],\n",
       "\n",
       "       [[252.26666 , 239.31482 , 239.31482 ],\n",
       "        [142.      ,   0.      ,   0.      ],\n",
       "        [255.      , 218.22223 , 218.22223 ],\n",
       "        [255.      , 255.      , 255.      ],\n",
       "        [255.      , 255.      , 255.      ]],\n",
       "\n",
       "       [[255.      , 255.      , 255.      ],\n",
       "        [197.44444 , 125.611115, 125.611115],\n",
       "        [255.      , 255.      , 255.      ],\n",
       "        [255.      , 255.      , 255.      ],\n",
       "        [255.      , 255.      , 255.      ]],\n",
       "\n",
       "       [[255.      , 255.      , 255.      ],\n",
       "        [255.      , 255.      , 255.      ],\n",
       "        [255.      , 255.      , 255.      ],\n",
       "        [255.      , 255.      , 255.      ],\n",
       "        [255.      , 255.      , 255.      ]]], dtype=float32)"
      ]
     },
     "execution_count": 46,
     "metadata": {},
     "output_type": "execute_result"
    }
   ],
   "source": [
    "img_truth[12:17,110:115,:]"
   ]
  },
  {
   "cell_type": "code",
   "execution_count": 40,
   "metadata": {},
   "outputs": [
    {
     "name": "stdout",
     "output_type": "stream",
     "text": [
      "[[[  0.         0.       255.      ]\n",
      "  [  0.         0.       255.      ]\n",
      "  [  0.         0.       255.      ]\n",
      "  [  0.         0.       255.      ]\n",
      "  [  0.         0.       255.      ]]\n",
      "\n",
      " [[  0.         0.       239.23334 ]\n",
      "  [  0.         0.       126.5     ]\n",
      "  [  0.         0.       218.      ]\n",
      "  [  0.         0.       255.      ]\n",
      "  [  0.         0.       255.      ]]\n",
      "\n",
      " [[  0.         0.       239.31482 ]\n",
      "  [  0.         0.         0.      ]\n",
      "  [  0.         0.       218.22223 ]\n",
      "  [  0.         0.       255.      ]\n",
      "  [  0.         0.       255.      ]]\n",
      "\n",
      " [[  0.         0.       255.      ]\n",
      "  [  0.         0.       125.611115]\n",
      "  [  0.         0.       255.      ]\n",
      "  [  0.         0.       255.      ]\n",
      "  [  0.         0.       255.      ]]\n",
      "\n",
      " [[  0.         0.       255.      ]\n",
      "  [  0.         0.       255.      ]\n",
      "  [  0.         0.       255.      ]\n",
      "  [  0.         0.       255.      ]\n",
      "  [  0.         0.       255.      ]]]\n"
     ]
    },
    {
     "data": {
      "text/plain": [
       "array([[255.      , 255.      , 255.      , 255.      , 255.      ],\n",
       "       [239.23334 , 126.5     , 218.      , 255.      , 255.      ],\n",
       "       [239.31482 ,   0.      , 218.22223 , 255.      , 255.      ],\n",
       "       [255.      , 125.611115, 255.      , 255.      , 255.      ],\n",
       "       [255.      , 255.      , 255.      , 255.      , 255.      ]],\n",
       "      dtype=float32)"
      ]
     },
     "execution_count": 40,
     "metadata": {},
     "output_type": "execute_result"
    }
   ],
   "source": [
    "print(cp3[12:17,110:115,:])\n",
    "(cp3[12:17,110:115,2])"
   ]
  },
  {
   "cell_type": "code",
   "execution_count": 25,
   "metadata": {},
   "outputs": [
    {
     "data": {
      "text/plain": [
       "<matplotlib.image.AxesImage at 0x7f34263ed700>"
      ]
     },
     "execution_count": 25,
     "metadata": {},
     "output_type": "execute_result"
    },
    {
     "data": {
      "image/png": "[encoded data removed]",
      "text/plain": [
       "<Figure size 1440x864 with 1 Axes>"
      ]
     },
     "metadata": {
      "needs_background": "light"
     },
     "output_type": "display_data"
    }
   ],
   "source": [
    "plt.rcParams[\"figure.figsize\"] = (20, 12)\n",
    "plt.imshow(-plus_groud+minus_groud, cmap=custom_HSQC_cmap)"
   ]
  },
  {
   "cell_type": "code",
   "execution_count": 65,
   "metadata": {},
   "outputs": [
    {
     "name": "stderr",
     "output_type": "stream",
     "text": [
      "Clipping input data to the valid range for imshow with RGB data ([0..1] for floats or [0..255] for integers).\n",
      "Clipping input data to the valid range for imshow with RGB data ([0..1] for floats or [0..255] for integers).\n"
     ]
    },
    {
     "name": "stdout",
     "output_type": "stream",
     "text": [
      "(180, 120, 3)\n"
     ]
    },
    {
     "data": {
      "text/plain": [
       "<matplotlib.image.AxesImage at 0x7fde0b233430>"
      ]
     },
     "execution_count": 65,
     "metadata": {},
     "output_type": "execute_result"
    },
    {
     "data": {
      "image/png": "[encoded data removed]",
      "text/plain": [
       "<Figure size 2160x6480 with 4 Axes>"
      ]
     },
     "metadata": {
      "needs_background": "light"
     },
     "output_type": "display_data"
    }
   ],
   "source": [
    "plt.rcParams[\"figure.figsize\"] = (30,90)\n",
    "print(noise_resized.shape)\n",
    "figure, plots = plt.subplots(ncols=4, nrows=1)\n",
    "plots[0].imshow(img_truth)\n",
    "\n",
    "cp1 = np.copy(img_truth)\n",
    "cp1[:,:,2] = 255\n",
    "cp1[:,:,1] = 255\n",
    "plots[1].imshow(cp1[:,:,0])\n",
    "\n",
    "cp2 = np.copy(img_truth)\n",
    "cp2[:,:,0] = 255\n",
    "cp2[:,:,2] = 255\n",
    "plots[2].imshow(cp2)\n",
    "\n",
    "cp3 = np.copy(img_truth)\n",
    "cp3[:,:,0] = 255\n",
    "cp3[:,:,1] = 255\n",
    "plots[3].imshow(cp3[:,:,2])\n",
    "\n",
    "# plots[3].imshow(ground_truth_resized[:,:,2])\n"
   ]
  },
  {
   "cell_type": "code",
   "execution_count": 62,
   "metadata": {},
   "outputs": [
    {
     "name": "stderr",
     "output_type": "stream",
     "text": [
      "Clipping input data to the valid range for imshow with RGB data ([0..1] for floats or [0..255] for integers).\n"
     ]
    },
    {
     "data": {
      "text/plain": [
       "<matplotlib.image.AxesImage at 0x7fde0b6edc40>"
      ]
     },
     "execution_count": 62,
     "metadata": {},
     "output_type": "execute_result"
    },
    {
     "data": {
      "image/png": "[encoded data removed]",
      "text/plain": [
       "<Figure size 2160x6480 with 3 Axes>"
      ]
     },
     "metadata": {
      "needs_background": "light"
     },
     "output_type": "display_data"
    }
   ],
   "source": [
    "figure, plots = plt.subplots(ncols=3, nrows=1)\n",
    "plots[0].imshow(img_truth)\n",
    "\n",
    "plots[1].imshow(plus_groud,cmap='gray')\n",
    "\n",
    "plots[2].imshow(minus_groud,cmap='gray')\n"
   ]
  },
  {
   "cell_type": "code",
   "execution_count": 54,
   "metadata": {},
   "outputs": [
    {
     "data": {
      "text/plain": [
       "array([250.50371 , 204.22223 , 248.66667 , 244.8     , 177.79999 ,\n",
       "       249.      , 252.26666 , 198.      , 238.73334 , 226.88889 ,\n",
       "       252.26666 , 142.      , 243.8     , 197.44444 , 243.12222 ,\n",
       "       248.93333 , 206.96666 , 248.86667 , 212.6037  , 246.5889  ,\n",
       "       203.92223 , 229.72223 , 252.75185 , 204.96297 , 206.14444 ,\n",
       "       233.66667 , 141.6     , 216.44444 , 252.2     , 150.33333 ,\n",
       "       151.8     , 240.8     , 190.2     , 212.5     , 238.93333 ,\n",
       "       199.55556 , 201.02223 , 238.25555 , 177.33333 , 215.33333 ,\n",
       "       148.11111 , 148.11111 , 148.11111 , 204.88889 , 219.55556 ,\n",
       "       215.27777 , 187.07777 , 227.34444 , 210.48149 , 230.12222 ,\n",
       "        32.01111 ,   0.      , 106.166664, 134.46666 , 205.66667 ,\n",
       "       199.66667 , 159.83333 , 194.2     , 149.36667 , 104.72222 ,\n",
       "       184.02222 , 209.88889 , 223.02592 , 211.44444 , 222.72223 ,\n",
       "       144.      , 154.61111 , 233.61111 , 186.86667 , 143.5     ,\n",
       "       220.03334 , 201.22223 , 180.90741 , 165.38889 , 116.68889 ,\n",
       "         0.      ,  86.72222 , 174.88889 , 223.58519 , 174.88889 ,\n",
       "        26.844444, 154.46666 ,   0.      , 136.9     , 254.86667 ,\n",
       "       184.9     ,  77.      , 254.68149 , 235.66666 , 185.27777 ,\n",
       "       243.27777 , 239.27777 , 251.75926 , 227.27777 , 187.4     ,\n",
       "        13.333333, 205.86667 , 190.0963  , 247.33333 , 193.33333 ,\n",
       "       181.13333 , 242.4     , 244.55556 , 223.5     , 225.5     ,\n",
       "       243.66667 , 156.      , 206.      ,  81.22222 , 128.1     ,\n",
       "        88.05556 , 234.94444 , 174.02222 , 131.      , 214.      ,\n",
       "       212.06667 , 138.      , 156.      , 246.3148  , 181.94444 ,\n",
       "       173.1074  , 236.2111  , 213.81482 , 161.11111 , 191.05556 ,\n",
       "       235.96666 , 199.44815 , 237.72223 , 253.73334 , 174.61111 ,\n",
       "       251.8     , 151.5     , 200.61111 , 237.16667 , 229.33333 ,\n",
       "       250.27777 , 165.98889 , 128.      , 224.      , 174.04445 ,\n",
       "       152.16667 , 205.72223 , 252.      , 249.32222 , 254.      ,\n",
       "       248.51852 , 211.65556 , 180.2111  , 240.74445 , 183.96295 ,\n",
       "       178.03333 , 140.61111 , 251.06667 , 201.16666 , 236.2     ,\n",
       "       221.73334 , 248.11111 , 248.11111 , 253.94444 , 142.05556 ,\n",
       "       149.18889 , 222.2     , 163.33333 , 167.46666 , 137.67776 ,\n",
       "       251.44444 , 252.44444 , 188.78888 , 254.79259 , 167.01111 ,\n",
       "       194.07777 , 245.06667 , 142.4     , 143.23334 , 247.56667 ,\n",
       "       249.48518 , 214.47778 , 142.94444 , 240.4111  , 159.      ,\n",
       "       185.83333 , 252.55556 , 142.72223 , 194.3889  , 176.02223 ,\n",
       "       178.68518 , 159.2889  , 195.91852 , 251.77777 , 253.38889 ,\n",
       "       252.      , 252.16666 , 169.06667 , 253.      , 250.61111 ,\n",
       "       149.33333 , 243.74445 , 154.      , 245.13333 , 191.18518 ,\n",
       "       247.11111 , 254.97408 , 249.16667 , 193.03703 , 221.92223 ,\n",
       "       154.7037  , 191.87778 , 197.21112 , 236.      , 242.56667 ,\n",
       "       217.6     , 249.41112 , 245.26666 , 155.88889 , 252.13333 ,\n",
       "       138.16667 , 228.55556 , 236.72594 , 249.65555 ], dtype=float32)"
      ]
     },
     "execution_count": 54,
     "metadata": {},
     "output_type": "execute_result"
    }
   ],
   "source": [
    "# print( np.where(cp1!=255))\n",
    "cp1[cp1<255]"
   ]
  },
  {
   "cell_type": "code",
   "execution_count": 24,
   "metadata": {},
   "outputs": [
    {
     "data": {
      "text/plain": [
       "<matplotlib.image.AxesImage at 0x7fde1d543310>"
      ]
     },
     "execution_count": 24,
     "metadata": {},
     "output_type": "execute_result"
    },
    {
     "data": {
      "image/png": "[encoded data removed]",
      "text/plain": [
       "<Figure size 1440x864 with 1 Axes>"
      ]
     },
     "metadata": {
      "needs_background": "light"
     },
     "output_type": "display_data"
    }
   ],
   "source": [
    "plt.imshow(img_truth[:,:,1])"
   ]
  },
  {
   "cell_type": "code",
   "execution_count": 26,
   "metadata": {},
   "outputs": [
    {
     "data": {
      "text/plain": [
       "<matplotlib.image.AxesImage at 0x7fde1d48a3d0>"
      ]
     },
     "execution_count": 26,
     "metadata": {},
     "output_type": "execute_result"
    },
    {
     "data": {
      "image/png": "[encoded data removed]",
      "text/plain": [
       "<Figure size 1440x864 with 1 Axes>"
      ]
     },
     "metadata": {
      "needs_background": "light"
     },
     "output_type": "display_data"
    }
   ],
   "source": [
    "plt.imshow(img_truth[:,:,2])"
   ]
  },
  {
   "cell_type": "code",
   "execution_count": 1,
   "metadata": {},
   "outputs": [
    {
     "name": "stderr",
     "output_type": "stream",
     "text": [
      "100%|██████████| 59/59 [08:00<00:00,  8.15s/it]\n"
     ]
    }
   ],
   "source": [
    "\"\"\" I will copy the code above to generate npz file for bitmap hsqc\"\"\"\n",
    "\n",
    "\"\"\"I think i understand it now, let me do it again \"\"\"\n",
    "import os, shutil\n",
    "img_dir = \"/root/autoencoder_denoiser/dataset/real_img_referral_for_testing\"\n",
    "toghther_dir = '/root/autoencoder_denoiser/dataset/real_img_referral_for_testing/bitmap_all_together'\n",
    "clean_dir = os.path.join(img_dir, \"bitmap_real_hsqc_clean\")\n",
    "noisy_dir = os.path.join(img_dir, \"bitmap_real_hsqc_noisy\")\n",
    "\n",
    "import os,sys\n",
    "from glob import glob\n",
    "import cv2\n",
    "import pandas as pd\n",
    "import numpy as np\n",
    "from tqdm import tqdm\n",
    "import matplotlib.pyplot as plt\n",
    "from PIL import Image\n",
    "\n",
    "import matplotlib.image\n",
    "clist = [(0,\"darkblue\"), (0.5,\"white\"), (1, \"darkred\")]\n",
    "custom_HSQC_cmap = matplotlib.colors.LinearSegmentedColormap.from_list(\"_\",clist)\n",
    "\n",
    "plt.rcParams[\"figure.figsize\"] = (40,90)\n",
    "\n",
    "imgs_resized=[]\n",
    "imgs_orig_size=[]\n",
    "all_img_paths = (glob(noisy_dir+\"/*\"))\n",
    "\n",
    "save_dir_resize = f'/root/autoencoder_denoiser/dataset/resized_real_imgs_bitmap/'\n",
    "save_dir_orig_size = f'/root/autoencoder_denoiser/dataset/orig_size_real_imgs_bitmap/'\n",
    "os.makedirs(save_dir_resize, exist_ok=True)\n",
    "os.makedirs(save_dir_orig_size, exist_ok=True)\n",
    "\n",
    "last_compound_name = ''\n",
    "iter = 0\n",
    "\n",
    "def convert_to_intensities(custom_HSQC_cmap, path):\n",
    "    img = cv2.imread(path)\n",
    "    img_truth = cv2.cvtColor(img, cv2.COLOR_BGR2RGB).astype(\"float32\")\n",
    "    # print(\"ground truth shape\",img_truth.shape)\n",
    "    # img_truth = cv2.resize(img_truth.astype(\"float32\"), (240, 360))\n",
    "    R, G, B = img_truth[:,:,0], img_truth[:,:,1], img_truth[:,:,2]\n",
    "    shape = img_truth.shape[0:2]\n",
    "    plus = R\n",
    "    minus = B\n",
    "            # plus = np.zeros(shape)\n",
    "            # minus = np.zeros(shape)\n",
    "            # plus_pos = B <= 0#np.logical_and( R-B>100 , B <100 ) \n",
    "            # plus[plus_pos]=R[plus_pos]\n",
    "            # minus_pos = R <= 0 # np.logical_and( B-R>100 , R <100 ) \n",
    "            # minus[minus_pos] = B[minus_pos]\n",
    "    \n",
    "    plus_groud = plus/255 # I will assume this is plus but not sure\n",
    "    minus_groud = minus/255\n",
    "    ground_truth = plus_groud - minus_groud\n",
    "    # norm_image = cv2.normalize(image, None, alpha = 0, beta = 255, norm_type = cv2.NORM_MINMAX, dtype = cv2.CV_32F)\n",
    "    # figure, plots = plt.subplots(ncols=2, nrows=1)\n",
    "    # plots[0].imshow(ground_truth_resized.astype(int))\n",
    "\n",
    "    # plots[1].imshow(ground_truth, cmap=custom_HSQC_cmap, vmax=1, vmin=-1)\n",
    "    return ground_truth\n",
    "\n",
    "for img_path in tqdm(all_img_paths):\n",
    "    # print(img_path)\n",
    "    iter+=1\n",
    "    noise_level = img_path.split('/')[-1].split('_')[-1]\n",
    "    noise_level = noise_level[:-4]\n",
    "    compound_name = img_path.split('/')[-1].split('_')[0]\n",
    "   \n",
    "\n",
    "    '''ground truth'''\n",
    "    ground_path = img_path.replace(\"real_hsqc_noisy\",\"real_hsqc_clean\").replace(\"_noisy\",\"_original\")\n",
    "\n",
    "    ground_path = ground_path[:-5] + '1.png'\n",
    "    if ground_path[-6].isdigit():\n",
    "        # print(ground_path)\n",
    "        ground_path = ground_path[:-6]+ground_path[-5:]\n",
    "    # print(gound_path)\n",
    "    ground_truth = convert_to_intensities(custom_HSQC_cmap, ground_path)\n",
    "    resized_truth = cv2.resize(ground_truth, (240, 360))\n",
    "   \n",
    "    \"\"\"noise\"\"\"\n",
    "    noise_input = convert_to_intensities(custom_HSQC_cmap, img_path)\n",
    "    resized_noise = cv2.resize(noise_input, (240, 360))\n",
    "                            \n",
    "    noise_level = img_path.split('/')[-1].split('_')[-1]\n",
    "                                # # print(\"noise shape\",img.shape)\n",
    "                                # print(noise_level)\n",
    "                                \n",
    "                                \n",
    "    name = img_path.split(\"/\")[-1].split(\".\")[0]\n",
    "    name = [ord(c) for c in name]\n",
    "\n",
    "    np.savez_compressed(f'{save_dir_resize}/{compound_name}_{noise_level}.npz', noise=resized_noise, ground_truth=resized_truth, name = name )\n",
    "    np.savez_compressed(f'{save_dir_orig_size}/{compound_name}_{noise_level}.npz', noise=noise_input, ground_truth=ground_truth, name = name)\n",
    "    \n",
    "\n",
    "    # # imgs_resized.append((resized_input,ground_truth_resized ))\n",
    "    # # imgs_orig_size.append((img_result, ground_truth))\n",
    "                           \n",
    "    # if iter ==10 : break\n"
   ]
  },
  {
   "cell_type": "code",
   "execution_count": 16,
   "metadata": {},
   "outputs": [
    {
     "data": {
      "text/plain": [
       "<matplotlib.image.AxesImage at 0x7f9961c88550>"
      ]
     },
     "execution_count": 16,
     "metadata": {},
     "output_type": "execute_result"
    },
    {
     "data": {
      "image/png": "[encoded data removed]",
      "text/plain": [
       "<Figure size 2160x864 with 1 Axes>"
      ]
     },
     "metadata": {
      "needs_background": "light"
     },
     "output_type": "display_data"
    }
   ],
   "source": [
    "plt.rcParams[\"figure.figsize\"] = (30,12)\n",
    "\n",
    "plt.imshow(img_truth)"
   ]
  },
  {
   "cell_type": "code",
   "execution_count": 19,
   "metadata": {},
   "outputs": [
    {
     "data": {
      "text/plain": [
       "(array([ 89,  89,  89,  90,  90,  90,  94,  94,  94,  95,  95,  95, 110,\n",
       "        110, 110, 111, 111, 111, 114, 114, 114, 115, 115, 115]),\n",
       " array([39, 39, 39, 39, 39, 39, 42, 42, 42, 42, 42, 42, 32, 32, 32, 32, 32,\n",
       "        32, 23, 23, 23, 23, 23, 23]),\n",
       " array([0, 1, 2, 0, 1, 2, 0, 1, 2, 0, 1, 2, 0, 1, 2, 0, 1, 2, 0, 1, 2, 0,\n",
       "        1, 2]))"
      ]
     },
     "execution_count": 19,
     "metadata": {},
     "output_type": "execute_result"
    }
   ],
   "source": [
    "np.where(img_truth!=255)"
   ]
  },
  {
   "cell_type": "code",
   "execution_count": 20,
   "metadata": {},
   "outputs": [
    {
     "data": {
      "text/plain": [
       "(array([2155, 2155, 2155, ..., 6404, 6404, 6404]),\n",
       " array([5102, 5102, 5102, ..., 1326, 1326, 1326]),\n",
       " array([0, 1, 2, ..., 0, 1, 2]))"
      ]
     },
     "execution_count": 20,
     "metadata": {},
     "output_type": "execute_result"
    }
   ],
   "source": [
    "np.where(img_truth!=255)"
   ]
  },
  {
   "cell_type": "code",
   "execution_count": 3,
   "metadata": {},
   "outputs": [
    {
     "name": "stdout",
     "output_type": "stream",
     "text": [
      "[[255.        17.        17.      ]\n",
      " [255.        17.        17.      ]\n",
      " [104.666664 104.666664 255.      ]\n",
      " ...\n",
      " [250.05556   35.        35.      ]\n",
      " [250.05556   35.        35.      ]\n",
      " [250.05556   35.        35.      ]]\n"
     ]
    },
    {
     "data": {
      "text/plain": [
       "2471"
      ]
     },
     "execution_count": 3,
     "metadata": {},
     "output_type": "execute_result"
    }
   ],
   "source": [
    "w = np.where(resized_input!=255)\n",
    "print(resized_input[w[0:2]])\n",
    "len(w[0])"
   ]
  },
  {
   "cell_type": "code",
   "execution_count": 4,
   "metadata": {},
   "outputs": [
    {
     "name": "stderr",
     "output_type": "stream",
     "text": [
      "Clipping input data to the valid range for imshow with RGB data ([0..1] for floats or [0..255] for integers).\n"
     ]
    },
    {
     "data": {
      "text/plain": [
       "<matplotlib.image.AxesImage at 0x7f99203f7c40>"
      ]
     },
     "execution_count": 4,
     "metadata": {},
     "output_type": "execute_result"
    },
    {
     "data": {
      "image/png": "[encoded data removed]",
      "text/plain": [
       "<Figure size 2160x6480 with 4 Axes>"
      ]
     },
     "metadata": {
      "needs_background": "light"
     },
     "output_type": "display_data"
    }
   ],
   "source": [
    "\n",
    "figure, plots = plt.subplots(ncols=4, nrows=1)\n",
    "plots[0].imshow(resized_input[145:155, 19:23,:])\n",
    "plots[1].imshow(plus[145:155, 19:23])\n",
    "\n",
    "\n",
    "plots[2].imshow(minus)\n",
    "\n",
    "plots[3].imshow(input[145:155, 19:23], cmap=custom_HSQC_cmap)\n",
    "\n",
    "\n",
    "# plots[3].imshow(ground_truth_resized[:,:,2])\n"
   ]
  },
  {
   "cell_type": "code",
   "execution_count": 5,
   "metadata": {},
   "outputs": [
    {
     "data": {
      "text/plain": [
       "array([[[255., 255., 255.],\n",
       "        [255., 255., 255.],\n",
       "        [255., 255., 255.],\n",
       "        [255., 255., 255.]],\n",
       "\n",
       "       [[255., 255., 255.],\n",
       "        [255., 255., 255.],\n",
       "        [255., 255., 255.],\n",
       "        [255., 255., 255.]],\n",
       "\n",
       "       [[255., 255., 255.],\n",
       "        [255., 255., 255.],\n",
       "        [255., 255., 255.],\n",
       "        [255., 255., 255.]],\n",
       "\n",
       "       [[255., 255., 255.],\n",
       "        [255., 255., 255.],\n",
       "        [255., 255., 255.],\n",
       "        [255., 255., 255.]],\n",
       "\n",
       "       [[  0.,   0., 255.],\n",
       "        [255., 255., 255.],\n",
       "        [255., 255., 255.],\n",
       "        [255., 255., 255.]],\n",
       "\n",
       "       [[255., 255., 255.],\n",
       "        [255., 255., 255.],\n",
       "        [255., 255., 255.],\n",
       "        [255., 255., 255.]],\n",
       "\n",
       "       [[255., 255., 255.],\n",
       "        [255., 255., 255.],\n",
       "        [255., 255., 255.],\n",
       "        [255.,   1.,   1.]],\n",
       "\n",
       "       [[255., 255., 255.],\n",
       "        [255., 255., 255.],\n",
       "        [255., 255., 255.],\n",
       "        [255., 255., 255.]],\n",
       "\n",
       "       [[255., 255., 255.],\n",
       "        [255., 255., 255.],\n",
       "        [255., 255., 255.],\n",
       "        [255., 255., 255.]],\n",
       "\n",
       "       [[255., 255., 255.],\n",
       "        [255., 255., 255.],\n",
       "        [255., 255., 255.],\n",
       "        [255., 255., 255.]]], dtype=float32)"
      ]
     },
     "execution_count": 5,
     "metadata": {},
     "output_type": "execute_result"
    }
   ],
   "source": [
    "resized_input[145:155, 19:23,:]"
   ]
  },
  {
   "cell_type": "code",
   "execution_count": 10,
   "metadata": {},
   "outputs": [
    {
     "name": "stderr",
     "output_type": "stream",
     "text": [
      "Clipping input data to the valid range for imshow with RGB data ([0..1] for floats or [0..255] for integers).\n"
     ]
    },
    {
     "data": {
      "text/plain": [
       "<matplotlib.image.AxesImage at 0x7f992053e8e0>"
      ]
     },
     "execution_count": 10,
     "metadata": {},
     "output_type": "execute_result"
    },
    {
     "data": {
      "image/png": "[encoded data removed]",
      "text/plain": [
       "<Figure size 2160x720 with 1 Axes>"
      ]
     },
     "metadata": {
      "needs_background": "light"
     },
     "output_type": "display_data"
    }
   ],
   "source": []
  },
  {
   "cell_type": "code",
   "execution_count": null,
   "metadata": {},
   "outputs": [],
   "source": []
  },
  {
   "cell_type": "code",
   "execution_count": 24,
   "metadata": {},
   "outputs": [
    {
     "data": {
      "text/plain": [
       "array([209.3999939 , 199.92222595, 188.06666565, 201.        ,\n",
       "       201.47776794, 235.71110535, 206.80000305, 196.        ,\n",
       "       185.        ])"
      ]
     },
     "execution_count": 24,
     "metadata": {},
     "output_type": "execute_result"
    }
   ],
   "source": [
    "plus[plus>0]"
   ]
  },
  {
   "cell_type": "code",
   "execution_count": 20,
   "metadata": {},
   "outputs": [
    {
     "name": "stderr",
     "output_type": "stream",
     "text": [
      "Clipping input data to the valid range for imshow with RGB data ([0..1] for floats or [0..255] for integers).\n"
     ]
    },
    {
     "name": "stdout",
     "output_type": "stream",
     "text": [
      "(180, 120, 3)\n"
     ]
    },
    {
     "data": {
      "text/plain": [
       "<matplotlib.image.AxesImage at 0x7febc4de3b80>"
      ]
     },
     "execution_count": 20,
     "metadata": {},
     "output_type": "execute_result"
    },
    {
     "data": {
      "image/png": "[encoded data removed]",
      "text/plain": [
       "<Figure size 2160x6480 with 3 Axes>"
      ]
     },
     "metadata": {
      "needs_background": "light"
     },
     "output_type": "display_data"
    }
   ],
   "source": [
    "plt.rcParams[\"figure.figsize\"] = (30,90)\n",
    "print(img_truth.shape)    \n",
    "figure, plots = plt.subplots(ncols=3, nrows=1)\n",
    "plots[0].imshow(img_truth[35:40,70:75,:])\n",
    "\n",
    "R, G, B = img_truth[:,:,0], img_truth[:,:,1], img_truth[:,:,2]\n",
    "\n",
    "\n",
    "\n",
    "plots[1].imshow(plus)\n",
    "\n",
    "\n",
    "plots[2].imshow(minus[35:40,70:75])\n",
    "\n",
    "\n",
    "# plots[3].imshow(ground_truth_resized[:,:,2])\n"
   ]
  },
  {
   "cell_type": "code",
   "execution_count": 21,
   "metadata": {},
   "outputs": [
    {
     "data": {
      "text/plain": [
       "array([[[255.        , 255.        , 255.        ],\n",
       "        [255.        , 255.        , 255.        ],\n",
       "        [255.        , 255.        , 255.        ],\n",
       "        [181.6       , 181.6       , 233.74445   ],\n",
       "        [255.        , 255.        , 255.        ]],\n",
       "\n",
       "       [[255.        , 255.        , 255.        ],\n",
       "        [131.06667   , 131.06667   , 213.86667   ],\n",
       "        [255.        , 255.        , 255.        ],\n",
       "        [  0.56666666,   0.56666666, 233.66667   ],\n",
       "        [255.        , 255.        , 255.        ]],\n",
       "\n",
       "       [[255.        , 255.        , 255.        ],\n",
       "        [162.25555   , 162.25555   , 255.        ],\n",
       "        [255.        , 255.        , 255.        ],\n",
       "        [255.        , 255.        , 255.        ],\n",
       "        [255.        , 255.        , 255.        ]],\n",
       "\n",
       "       [[255.        , 255.        , 255.        ],\n",
       "        [255.        , 255.        , 255.        ],\n",
       "        [255.        , 255.        , 255.        ],\n",
       "        [255.        , 255.        , 255.        ],\n",
       "        [255.        , 255.        , 255.        ]],\n",
       "\n",
       "       [[255.        , 255.        , 255.        ],\n",
       "        [255.        , 255.        , 255.        ],\n",
       "        [255.        , 255.        , 255.        ],\n",
       "        [255.        , 255.        , 255.        ],\n",
       "        [255.        , 255.        , 255.        ]]], dtype=float32)"
      ]
     },
     "execution_count": 21,
     "metadata": {},
     "output_type": "execute_result"
    }
   ],
   "source": [
    "img_truth[35:40,70:75,:]"
   ]
  },
  {
   "cell_type": "code",
   "execution_count": 64,
   "metadata": {},
   "outputs": [
    {
     "data": {
      "text/plain": [
       "array([[  0.     ,   0.     , 165.34444],\n",
       "       [  0.     ,   0.     , 165.34444],\n",
       "       [  0.     ,   0.     , 181.83333],\n",
       "       [  0.     ,   0.     , 181.83333],\n",
       "       [  0.     ,   0.     , 161.73334],\n",
       "       [  0.     ,   0.     , 161.73334],\n",
       "       [  0.     ,   0.     , 146.16666],\n",
       "       [  0.     ,   0.     , 146.16666],\n",
       "       [  0.     ,   0.     , 173.8    ],\n",
       "       [  0.     ,   0.     , 173.8    ],\n",
       "       [  0.     ,   0.     , 191.46666],\n",
       "       [  0.     ,   0.     , 191.46666],\n",
       "       [  0.     ,   0.     , 181.2889 ],\n",
       "       [  0.     ,   0.     , 181.2889 ],\n",
       "       [  0.     ,   0.     , 168.95184],\n",
       "       [  0.     ,   0.     , 168.95184],\n",
       "       [  0.     ,   0.     , 173.94444],\n",
       "       [  0.     ,   0.     , 173.94444],\n",
       "       [  0.     ,   0.     , 156.     ],\n",
       "       [  0.     ,   0.     , 156.     ],\n",
       "       [  0.     ,   0.     , 181.06667],\n",
       "       [  0.     ,   0.     , 181.06667],\n",
       "       [  0.     ,   0.     , 161.13333],\n",
       "       [  0.     ,   0.     , 161.13333],\n",
       "       [  0.     ,   0.     , 164.66667],\n",
       "       [  0.     ,   0.     , 164.66667],\n",
       "       [  0.     ,   0.     , 167.1    ],\n",
       "       [  0.     ,   0.     , 167.1    ],\n",
       "       [  0.     ,   0.     , 185.     ],\n",
       "       [  0.     ,   0.     , 185.     ],\n",
       "       [  0.     ,   0.     , 171.     ],\n",
       "       [  0.     ,   0.     , 171.     ],\n",
       "       [  0.     ,   0.     , 130.     ],\n",
       "       [  0.     ,   0.     , 130.     ],\n",
       "       [  0.     ,   0.     , 136.12222],\n",
       "       [  0.     ,   0.     , 136.12222],\n",
       "       [  0.     ,   0.     , 192.33333],\n",
       "       [  0.     ,   0.     , 192.33333],\n",
       "       [  0.     ,   0.     , 133.66667],\n",
       "       [  0.     ,   0.     , 133.66667],\n",
       "       [  0.     ,   0.     , 131.77777],\n",
       "       [  0.     ,   0.     , 131.77777],\n",
       "       [  0.     ,   0.     , 195.85556],\n",
       "       [  0.     ,   0.     , 195.85556],\n",
       "       [  0.     ,   0.     , 195.72223],\n",
       "       [  0.     ,   0.     , 195.72223],\n",
       "       [  0.     ,   0.     , 212.5889 ],\n",
       "       [  0.     ,   0.     , 212.5889 ],\n",
       "       [  0.     ,   0.     , 240.8    ],\n",
       "       [  0.     ,   0.     , 240.8    ],\n",
       "       [  0.     ,   0.     , 192.6111 ],\n",
       "       [  0.     ,   0.     , 192.6111 ],\n",
       "       [  0.     ,   0.     , 146.8    ],\n",
       "       [  0.     ,   0.     , 146.8    ],\n",
       "       [  0.     ,   0.     , 132.2111 ],\n",
       "       [  0.     ,   0.     , 132.2111 ],\n",
       "       [209.4    ,   0.     ,   0.     ],\n",
       "       [209.4    ,   0.     ,   0.     ],\n",
       "       [  0.     ,   0.     , 212.43333],\n",
       "       [  0.     ,   0.     , 212.43333],\n",
       "       [  0.     ,   0.     , 189.38889],\n",
       "       [  0.     ,   0.     , 189.38889],\n",
       "       [199.92223,   0.     ,   0.     ],\n",
       "       [199.92223,   0.     ,   0.     ],\n",
       "       [  0.     ,   0.     , 211.3    ],\n",
       "       [  0.     ,   0.     , 211.3    ],\n",
       "       [  0.     ,   0.     , 165.8    ],\n",
       "       [  0.     ,   0.     , 165.8    ],\n",
       "       [  0.     ,   0.     , 190.83333],\n",
       "       [  0.     ,   0.     , 190.83333],\n",
       "       [  0.     ,   0.     , 166.74445],\n",
       "       [  0.     ,   0.     , 166.74445],\n",
       "       [  0.     ,   0.     , 198.05556],\n",
       "       [  0.     ,   0.     , 198.05556],\n",
       "       [  0.     ,   0.     , 195.98889],\n",
       "       [  0.     ,   0.     , 195.98889],\n",
       "       [  0.     ,   0.     , 227.70001],\n",
       "       [  0.     ,   0.     , 227.70001],\n",
       "       [188.06667,   0.     ,   0.     ],\n",
       "       [188.06667,   0.     ,   0.     ],\n",
       "       [201.     ,   0.     ,   0.     ],\n",
       "       [201.     ,   0.     ,   0.     ],\n",
       "       [201.47777,   0.     ,   0.     ],\n",
       "       [201.47777,   0.     ,   0.     ],\n",
       "       [235.7111 ,   0.     ,   0.     ],\n",
       "       [235.7111 ,   0.     ,   0.     ],\n",
       "       [206.8    ,   0.     ,   0.     ],\n",
       "       [206.8    ,   0.     ,   0.     ],\n",
       "       [196.     ,   0.     ,   0.     ],\n",
       "       [196.     ,   0.     ,   0.     ],\n",
       "       [  0.     ,   0.     , 175.4    ],\n",
       "       [  0.     ,   0.     , 175.4    ],\n",
       "       [  0.     ,   0.     , 182.     ],\n",
       "       [  0.     ,   0.     , 182.     ],\n",
       "       [185.     ,   0.     ,   0.     ],\n",
       "       [185.     ,   0.     ,   0.     ],\n",
       "       [  0.     ,   0.     , 185.     ],\n",
       "       [  0.     ,   0.     , 185.     ],\n",
       "       [  0.     ,   0.     , 182.33333],\n",
       "       [  0.     ,   0.     , 182.33333],\n",
       "       [  0.     ,   0.     , 175.16667],\n",
       "       [  0.     ,   0.     , 175.16667],\n",
       "       [  0.     ,   0.     , 187.36667],\n",
       "       [  0.     ,   0.     , 187.36667],\n",
       "       [  0.     ,   0.     , 177.03334],\n",
       "       [  0.     ,   0.     , 177.03334],\n",
       "       [  0.     ,   0.     , 184.95555],\n",
       "       [  0.     ,   0.     , 184.95555]], dtype=float32)"
      ]
     },
     "execution_count": 64,
     "metadata": {},
     "output_type": "execute_result"
    }
   ],
   "source": [
    "img_truth[w[0:2]]"
   ]
  },
  {
   "cell_type": "code",
   "execution_count": 63,
   "metadata": {},
   "outputs": [
    {
     "data": {
      "text/plain": [
       "(array([15, 15, 16, 16, 21, 21, 22, 22, 23, 23, 23, 23, 23, 23, 23, 23, 24,\n",
       "        24, 24, 24, 24, 24, 24, 24, 25, 25, 25, 25, 26, 26, 26, 26, 26, 26,\n",
       "        27, 27, 28, 28, 28, 28, 28, 28, 29, 29, 29, 29, 29, 29, 29, 29, 29,\n",
       "        29, 29, 29, 29, 29, 30, 30, 30, 30, 30, 30, 30, 30, 31, 31, 34, 34,\n",
       "        34, 34, 35, 35, 36, 36, 38, 38, 39, 39, 40, 40, 41, 41, 42, 42, 42,\n",
       "        42, 43, 43, 45, 45, 49, 49, 52, 52, 54, 54, 59, 59, 59, 59, 61, 61,\n",
       "        61, 61, 62, 62, 62, 62]),\n",
       " array([105, 105, 105, 105,  98,  98, 107, 107,  94,  94,  99,  99, 103,\n",
       "        103, 105, 105, 102, 102, 103, 103, 104, 104, 105, 105, 102, 102,\n",
       "        105, 105, 103, 103, 104, 104, 105, 105, 105, 105, 102, 102, 103,\n",
       "        103, 104, 104,  96,  96,  97,  97,  98,  98,  99,  99, 102, 102,\n",
       "        103, 103, 104, 104,  94,  94,  96,  96,  97,  97, 103, 103, 103,\n",
       "        103,  79,  79,  87,  87,  79,  79,  83,  83,  68,  68,  68,  68,\n",
       "         89,  89,  89,  89,  88,  88,  98,  98, 100, 100,  88,  88,  49,\n",
       "         49,  37,  37,  72,  72,  42,  42,  47,  47,  45,  45,  46,  46,\n",
       "         40,  40,  45,  45]))"
      ]
     },
     "execution_count": 63,
     "metadata": {},
     "output_type": "execute_result"
    }
   ],
   "source": []
  },
  {
   "cell_type": "code",
   "execution_count": null,
   "metadata": {},
   "outputs": [],
   "source": []
  }
 ],
 "metadata": {
  "kernelspec": {
   "display_name": "base",
   "language": "python",
   "name": "python3"
  },
  "language_info": {
   "codemirror_mode": {
    "name": "ipython",
    "version": 3
   },
   "file_extension": ".py",
   "mimetype": "text/x-python",
   "name": "python",
   "nbconvert_exporter": "python",
   "pygments_lexer": "ipython3",
   "version": "3.8.12"
  },
  "orig_nbformat": 4,
  "vscode": {
   "interpreter": {
    "hash": "d4d1e4263499bec80672ea0156c357c1ee493ec2b1c70f0acce89fc37c4a6abe"
   }
  }
 },
 "nbformat": 4,
 "nbformat_minor": 2
}
