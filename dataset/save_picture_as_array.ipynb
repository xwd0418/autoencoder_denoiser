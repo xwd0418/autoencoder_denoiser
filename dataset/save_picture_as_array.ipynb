{
 "cells": [
  {
   "cell_type": "code",
   "execution_count": 1,
   "metadata": {},
   "outputs": [
    {
     "name": "stderr",
     "output_type": "stream",
     "text": [
      "100%|██████████| 60/60 [16:34<00:00, 16.58s/it]\n"
     ]
    }
   ],
   "source": [
    "import os,sys\n",
    "from glob import glob\n",
    "import cv2\n",
    "import pandas as pd\n",
    "import numpy as np\n",
    "from tqdm import tqdm\n",
    "import matplotlib.pyplot as plt\n",
    "from PIL import Image\n",
    "\n",
    "\n",
    "img_dir = \"/root/autoencoder_denoiser/dataset/real_img_referral_for_testing\"\n",
    "clean_dir = os.path.join(img_dir, \"real_hsqc_clean\")\n",
    "noisy_dir = os.path.join(img_dir, \"real_hsqc_noisy\")\n",
    "imgs_resized=[]\n",
    "imgs_orig_size=[]\n",
    "all_img_paths = (glob(noisy_dir+\"/*\"))\n",
    "\n",
    "save_dir_resize = f'/root/autoencoder_denoiser/dataset/resized_real_imgs/'\n",
    "save_dir_orig_size = f'/root/autoencoder_denoiser/dataset/orig_size_real_imgs/'\n",
    "os.makedirs(save_dir_resize, exist_ok=True)\n",
    "os.makedirs(save_dir_orig_size, exist_ok=True)\n",
    "\n",
    "last_compound_name = ''\n",
    "for img_path in tqdm(all_img_paths):\n",
    "    noise_level = img_path.split('/')[-1].split('_')[-1]\n",
    "    compound_name = img_path.split('/')[-1].split('_')[0]\n",
    "   \n",
    "\n",
    "    '''ground truth'''\n",
    "    ground_path = img_path.replace(\"real_hsqc_noisy\",\"real_hsqc_clean\").replace(\"_noisy\",\"_original\")\n",
    "    ground_path = ground_path[:-5] + '1.png'\n",
    "    if ground_path[-6].isdigit():\n",
    "        # print(ground_path)\n",
    "        ground_path = ground_path[:-6]+ground_path[-5:]\n",
    "    # print(gound_path)\n",
    "    img = Image.open(ground_path)\n",
    "    img = np.array(img)\n",
    "    plus_groud = 1-img[:,:, 0]/255 # I will assume this is plus but not sure\n",
    "    minus_groud = 1-img[:,:, 2]/255\n",
    "    ground_truth = plus_groud - minus_groud\n",
    "    ground_truth_resized = cv2.resize(ground_truth.astype(\"float32\"), (120, 180))\n",
    "   \n",
    "    \n",
    "    '''noise'''\n",
    "    img = Image.open(img_path)\n",
    "    img = np.array(img)\n",
    "    plus = 1-img[:,:, 0]/255 # I will assume this is plus but not sure\n",
    "    minus = 1-img[:,:, 2]/255\n",
    "    # print(plus.shape)\n",
    "    noise_input = plus-minus\n",
    "    resized_input = cv2.resize(noise_input.astype(\"float32\"), (120, 180))\n",
    "    # noise_level = img_path.split('/')[-1].split('_')[-1]\n",
    "    \n",
    "    np.savez_compressed(f'{save_dir_resize}/{compound_name}_{noise_level}.npz', noise=resized_input, ground_truth=ground_truth_resized)\n",
    "    np.savez_compressed(f'{save_dir_orig_size}/{compound_name}_{noise_level}.npz', noise=noise_input, ground_truth=ground_truth)\n",
    "    \n",
    "\n",
    "    # imgs_resized.append((resized_input,ground_truth_resized ))\n",
    "    # imgs_orig_size.append((img_result, ground_truth))\n"
   ]
  },
  {
   "cell_type": "code",
   "execution_count": null,
   "metadata": {},
   "outputs": [],
   "source": [
    "# np.save('/root/autoencoder_denoiser/dataset/resized_imgs_as_array.npy', np.array(imgs_resized, dtype=object), allow_pickle=True)\n",
    "# np.save('/root/autoencoder_denoiser/dataset/resized_imgs_as_array.npy', np.array(imgs_orig_size, dtype=object), allow_pickle=True)\n",
    "real_img_data_dir = f'/root/autoencoder_denoiser/dataset/resized_real_imgs/'\n",
    "paths =  glob(real_img_data_dir+\"*\")\n",
    "loaded_data = np.load(paths[0])\n"
   ]
  },
  {
   "cell_type": "code",
   "execution_count": 8,
   "metadata": {},
   "outputs": [
    {
     "data": {
      "text/plain": [
       "<numpy.lib.npyio.NpzFile at 0x7f2c98d7e550>"
      ]
     },
     "execution_count": 8,
     "metadata": {},
     "output_type": "execute_result"
    }
   ],
   "source": [
    "import numpy as np\n",
    "saved_stuff = (np.array([1,2,3]), np.array([11,22,33]))\n",
    "np.savez_compressed('/root/autoencoder_denoiser/dataset/test.npz', *saved_stuff)\n",
    "b = np.load('/root/autoencoder_denoiser/dataset/test.npz')\n",
    "b\n",
    "# NONOOONONONON, still PICKLE"
   ]
  },
  {
   "cell_type": "code",
   "execution_count": 9,
   "metadata": {},
   "outputs": [
    {
     "data": {
      "text/plain": [
       "array([[ 1,  2,  3],\n",
       "       [11, 22, 33]])"
      ]
     },
     "execution_count": 9,
     "metadata": {},
     "output_type": "execute_result"
    }
   ],
   "source": [
    "b['arr_0']"
   ]
  },
  {
   "cell_type": "code",
   "execution_count": 4,
   "metadata": {},
   "outputs": [
    {
     "name": "stderr",
     "output_type": "stream",
     "text": [
      "/tmp/ipykernel_10621/1825783255.py:3: DeprecationWarning: `np.float` is a deprecated alias for the builtin `float`. To silence this warning, use `float` by itself. Doing this will not modify any behavior and is safe. If you specifically wanted the numpy scalar type, use `np.float64` here.\n",
      "Deprecated in NumPy 1.20; for more details and guidance: https://numpy.org/devdocs/release/1.20.0-notes.html#deprecations\n",
      "  return np.float(50.0 * (high - low) / (1.0 + np.exp(-alpha*iter_num / max_iter)) - (high - low) + low)\n"
     ]
    },
    {
     "data": {
      "text/plain": [
       "[<matplotlib.lines.Line2D at 0x7f7a1ee53820>]"
      ]
     },
     "execution_count": 4,
     "metadata": {},
     "output_type": "execute_result"
    },
    {
     "data": {
      "image/png": "[encoded data removed]",
      "text/plain": [
       "<Figure size 432x288 with 1 Axes>"
      ]
     },
     "metadata": {
      "needs_background": "light"
     },
     "output_type": "display_data"
    }
   ],
   "source": [
    "import numpy as np\n",
    "def calc_coeff(iter_num, high=1.0, low=0.0, alpha=10.0, max_iter=1000.0):\n",
    "    return np.float(50.0 * (high - low) / (1.0 + np.exp(-alpha*iter_num / max_iter)) - (high - low) + low)\n",
    "\n",
    "a=[]\n",
    "for i in range(1000):\n",
    "    a.append(calc_coeff(i))\n",
    "a = np.array(a)\n",
    "import matplotlib.pyplot as plt\n",
    "plt.plot(a)\n"
   ]
  },
  {
   "cell_type": "code",
   "execution_count": null,
   "metadata": {},
   "outputs": [],
   "source": []
  }
 ],
 "metadata": {
  "kernelspec": {
   "display_name": "base",
   "language": "python",
   "name": "python3"
  },
  "language_info": {
   "codemirror_mode": {
    "name": "ipython",
    "version": 3
   },
   "file_extension": ".py",
   "mimetype": "text/x-python",
   "name": "python",
   "nbconvert_exporter": "python",
   "pygments_lexer": "ipython3",
   "version": "3.8.12"
  },
  "orig_nbformat": 4
 },
 "nbformat": 4,
 "nbformat_minor": 2
}
