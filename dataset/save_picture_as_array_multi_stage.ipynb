{
 "cells": [
  {
   "cell_type": "code",
   "execution_count": 2,
   "metadata": {},
   "outputs": [
    {
     "name": "stderr",
     "output_type": "stream",
     "text": [
      "100%|██████████| 60/60 [03:31<00:00,  3.53s/it]\n"
     ]
    }
   ],
   "source": [
    "import os,sys\n",
    "from glob import glob\n",
    "import cv2\n",
    "import pandas as pd\n",
    "import numpy as np\n",
    "from tqdm import tqdm\n",
    "import matplotlib.pyplot as plt\n",
    "from PIL import Image\n",
    "\n",
    "\n",
    "img_dir = \"/root/autoencoder_denoiser/dataset/real_img_referral_for_testing\"\n",
    "clean_dir = os.path.join(img_dir, \"real_hsqc_clean\")\n",
    "noisy_dir = os.path.join(img_dir, \"real_hsqc_noisy\")\n",
    "imgs=[]\n",
    "all_img_paths = sorted(glob(noisy_dir+\"/*\"))\n",
    "\n",
    "last_compound_name = ''\n",
    "for img_path in tqdm(all_img_paths):\n",
    "    compound_name = img_path.split('/')[-1].split('_')[0]\n",
    "    if compound_name!=last_compound_name:\n",
    "        save_dir = f'/root/autoencoder_denoiser/dataset/group_by_name_and_stage/{compound_name}/'\n",
    "        os.makedirs(save_dir, exist_ok=True)\n",
    "        last_compound_name = compound_name\n",
    "        '''ground truth'''\n",
    "        ground_path = img_path.replace(\"real_hsqc_noisy\",\"real_hsqc_clean\").replace(\"_noisy\",\"_original\")\n",
    "        ground_path = ground_path[:-5] + '1.png'\n",
    "        if ground_path[-6].isdigit():\n",
    "            # print(ground_path)\n",
    "            ground_path = ground_path[:-6]+ground_path[-5:]\n",
    "        # print(gound_path)\n",
    "        img = Image.open(ground_path)\n",
    "        img = np.array(img)\n",
    "        plus_groud = 1-img[:,:, 0]/255 # I will assume this is plus but not sure\n",
    "        minus_groud = 1-img[:,:, 2]/255\n",
    "        ground_truth = plus_groud - minus_groud\n",
    "        ground_truth = cv2.resize(ground_truth.astype(\"float32\"), (120, 180))\n",
    "        np.save(save_dir+'ground_truth.npy', ground_truth)\n",
    "    \n",
    "    '''noise'''\n",
    "    img = Image.open(img_path)\n",
    "    img = np.array(img)\n",
    "    plus = 1-img[:,:, 0]/255 # I will assume this is plus but not sure\n",
    "    minus = 1-img[:,:, 2]/255\n",
    "    # print(plus.shape)\n",
    "    img_result = plus-minus\n",
    "    resized_input = cv2.resize(img_result.astype(\"float32\"), (120, 180))\n",
    "    noise_level = img_path.split('/')[-1].split('_')[-1]\n",
    "    np.save(save_dir+f'_noise_{noise_level}.npy', resized_input)"
   ]
  },
  {
   "cell_type": "code",
   "execution_count": 8,
   "metadata": {},
   "outputs": [
    {
     "name": "stderr",
     "output_type": "stream",
     "text": [
      "100%|██████████| 60/60 [00:00<00:00, 284681.27it/s]\n"
     ]
    }
   ],
   "source": [
    "import pickle\n",
    "all_names=[]\n",
    "for img_path in tqdm(all_img_paths):\n",
    "    compound_name = img_path.split('/')[-1].split('_')[0]\n",
    "    if compound_name not in all_names :\n",
    "        all_names.append(compound_name)\n",
    "        \n",
    "with open('/root/autoencoder_denoiser/dataset/all_names.pkl', 'wb') as f:\n",
    "    pickle.dump(all_names, f)"
   ]
  },
  {
   "cell_type": "code",
   "execution_count": 4,
   "metadata": {},
   "outputs": [],
   "source": [
    "with open('/root/autoencoder_denoiser/dataset/imgs_as_array.pkl', 'rb') as f:\n",
    "        img_loaded =  pickle.load(f)\n",
    "        "
   ]
  },
  {
   "cell_type": "code",
   "execution_count": 9,
   "metadata": {},
   "outputs": [
    {
     "data": {
      "text/plain": [
       "['Artemisinin',\n",
       " 'Cyclosporin A',\n",
       " 'Digoxin',\n",
       " 'Erythromycin',\n",
       " 'Menthol',\n",
       " 'Palmitic acid',\n",
       " 'Quercetin',\n",
       " 'Rapamycin',\n",
       " 'Reserpine',\n",
       " 'Rifampicin',\n",
       " 'Strychnine']"
      ]
     },
     "execution_count": 9,
     "metadata": {},
     "output_type": "execute_result"
    }
   ],
   "source": [
    "all_names"
   ]
  },
  {
   "cell_type": "code",
   "execution_count": 7,
   "metadata": {},
   "outputs": [
    {
     "data": {
      "text/plain": [
       "['_1', 'fr']"
      ]
     },
     "execution_count": 7,
     "metadata": {},
     "output_type": "execute_result"
    }
   ],
   "source": [
    "a = [\"fr\", '_1']\n",
    "sorted(a)"
   ]
  },
  {
   "cell_type": "code",
   "execution_count": null,
   "metadata": {},
   "outputs": [],
   "source": []
  }
 ],
 "metadata": {
  "kernelspec": {
   "display_name": "base",
   "language": "python",
   "name": "python3"
  },
  "language_info": {
   "codemirror_mode": {
    "name": "ipython",
    "version": 3
   },
   "file_extension": ".py",
   "mimetype": "text/x-python",
   "name": "python",
   "nbconvert_exporter": "python",
   "pygments_lexer": "ipython3",
   "version": "3.8.12"
  },
  "orig_nbformat": 4
 },
 "nbformat": 4,
 "nbformat_minor": 2
}
