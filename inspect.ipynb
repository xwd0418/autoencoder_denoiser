{
 "cells": [
  {
   "cell_type": "code",
   "execution_count": 8,
   "metadata": {},
   "outputs": [
    {
     "data": {
      "text/plain": [
       "tensor([[[0.1247, 0.3411],\n",
       "         [0.5039, 0.7099]],\n",
       "\n",
       "        [[0.2472, 0.6066],\n",
       "         [0.6769, 0.7741]],\n",
       "\n",
       "        [[0.8046, 0.2997],\n",
       "         [0.8716, 0.6732]],\n",
       "\n",
       "        [[0.5652, 0.0184],\n",
       "         [0.4001, 0.7935]],\n",
       "\n",
       "        [[0.4406, 0.3109],\n",
       "         [0.0145, 0.1380]]])"
      ]
     },
     "execution_count": 8,
     "metadata": {},
     "output_type": "execute_result"
    }
   ],
   "source": [
    "import torch\n",
    "a = torch.rand(\n",
    "    (5, 2, 2)\n",
    ")\n",
    "a"
   ]
  },
  {
   "cell_type": "code",
   "execution_count": 15,
   "metadata": {},
   "outputs": [
    {
     "data": {
      "text/plain": [
       "tensor([[0.1247, 0.3411],\n",
       "        [0.5039, 0.7099],\n",
       "        [0.2472, 0.6066],\n",
       "        [0.6769, 0.7741],\n",
       "        [0.8046, 0.2997],\n",
       "        [0.8716, 0.6732],\n",
       "        [0.5652, 0.0184],\n",
       "        [0.4001, 0.7935],\n",
       "        [0.4406, 0.3109],\n",
       "        [0.0145, 0.1380]])"
      ]
     },
     "execution_count": 15,
     "metadata": {},
     "output_type": "execute_result"
    }
   ],
   "source": [
    "b = a.view(-1, 2)\n",
    "c = b.view(a.shape)\n",
    "b"
   ]
  },
  {
   "cell_type": "code",
   "execution_count": 14,
   "metadata": {},
   "outputs": [
    {
     "data": {
      "text/plain": [
       "tensor([[[0.1247, 0.3411],\n",
       "         [0.5039, 0.7099]],\n",
       "\n",
       "        [[0.2472, 0.6066],\n",
       "         [0.6769, 0.7741]],\n",
       "\n",
       "        [[0.8046, 0.2997],\n",
       "         [0.8716, 0.6732]],\n",
       "\n",
       "        [[0.5652, 0.0184],\n",
       "         [0.4001, 0.7935]],\n",
       "\n",
       "        [[0.4406, 0.3109],\n",
       "         [0.0145, 0.1380]]])"
      ]
     },
     "execution_count": 14,
     "metadata": {},
     "output_type": "execute_result"
    }
   ],
   "source": [
    "c"
   ]
  },
  {
   "cell_type": "code",
   "execution_count": 8,
   "metadata": {},
   "outputs": [
    {
     "data": {
      "image/png": "[encoded data removed]",
      "text/plain": [
       "<Figure size 432x288 with 1 Axes>"
      ]
     },
     "metadata": {
      "needs_background": "light"
     },
     "output_type": "display_data"
    },
    {
     "data": {
      "text/plain": [
       "<Figure size 432x288 with 0 Axes>"
      ]
     },
     "metadata": {},
     "output_type": "display_data"
    }
   ],
   "source": [
    "dir = \"/root/data/hyun_fp_data/hsqc_ms_pairs/train/HSQC_plain_imgs_toghter\"\n",
    "import torch\n",
    "img = torch.load(dir+\"/11226.pt\")\n",
    "\n",
    "from matplotlib import pyplot as plt\n",
    "plt.imshow(img[0], interpolation='nearest', cmap='gray')\n",
    "plt.figure()\n",
    "plt.show()"
   ]
  },
  {
   "cell_type": "code",
   "execution_count": null,
   "metadata": {},
   "outputs": [],
   "source": []
  }
 ],
 "metadata": {
  "kernelspec": {
   "display_name": "Python 3.8.12 ('base')",
   "language": "python",
   "name": "python3"
  },
  "language_info": {
   "codemirror_mode": {
    "name": "ipython",
    "version": 3
   },
   "file_extension": ".py",
   "mimetype": "text/x-python",
   "name": "python",
   "nbconvert_exporter": "python",
   "pygments_lexer": "ipython3",
   "version": "3.8.12"
  },
  "orig_nbformat": 4,
  "vscode": {
   "interpreter": {
    "hash": "d4d1e4263499bec80672ea0156c357c1ee493ec2b1c70f0acce89fc37c4a6abe"
   }
  }
 },
 "nbformat": 4,
 "nbformat_minor": 2
}
