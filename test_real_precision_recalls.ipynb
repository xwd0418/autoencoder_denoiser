{
 "cells": [
  {
   "cell_type": "code",
   "execution_count": 1,
   "metadata": {},
   "outputs": [
    {
     "data": {
      "text/plain": [
       "<matplotlib.legend.Legend at 0x7fe2a4d7a520>"
      ]
     },
     "execution_count": 1,
     "metadata": {},
     "output_type": "execute_result"
    },
    {
     "data": {
      "image/png": "[encoded data removed]",
      "text/plain": [
       "<Figure size 432x288 with 1 Axes>"
      ]
     },
     "metadata": {
      "needs_background": "light"
     },
     "output_type": "display_data"
    }
   ],
   "source": [
    "# from utils import get_loaders\n",
    "\n",
    "# class PrecisionRecallTest():\n",
    "#     def __init__(self, name, exp_dir = \"/root/autoencoder_denoiser/exps/cross_validation\"):\n",
    "#         self.name = name\n",
    "#         self.dir = exp_dir\n",
    "        \n",
    "import matplotlib.pyplot as plt\n",
    "\n",
    "x= [1,2,3]\n",
    "y= [10, 11, 14]\n",
    "z = [13, 12, 11]\n",
    "plt.scatter(x, y, color='r', label='precisions') \n",
    "plt.scatter(x, z, color='g', label='recalls') \n",
    "\n",
    "plt.legend()"
   ]
  },
  {
   "cell_type": "code",
   "execution_count": null,
   "metadata": {},
   "outputs": [],
   "source": []
  }
 ],
 "metadata": {
  "kernelspec": {
   "display_name": "base",
   "language": "python",
   "name": "python3"
  },
  "language_info": {
   "codemirror_mode": {
    "name": "ipython",
    "version": 3
   },
   "file_extension": ".py",
   "mimetype": "text/x-python",
   "name": "python",
   "nbconvert_exporter": "python",
   "pygments_lexer": "ipython3",
   "version": "3.8.12"
  }
 },
 "nbformat": 4,
 "nbformat_minor": 2
}
