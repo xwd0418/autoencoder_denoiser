{
 "cells": [
  {
   "cell_type": "code",
   "execution_count": 19,
   "metadata": {},
   "outputs": [
    {
     "name": "stderr",
     "output_type": "stream",
     "text": [
      "100%|██████████| 1531/1531 [01:06<00:00, 23.09it/s] \n"
     ]
    },
    {
     "data": {
      "text/plain": [
       "<matplotlib.image.AxesImage at 0x7f883e52eaf0>"
      ]
     },
     "execution_count": 19,
     "metadata": {},
     "output_type": "execute_result"
    },
    {
     "data": {
      "image/png": "[encoded data removed]",
      "text/plain": [
       "<Figure size 1440x720 with 1 Axes>"
      ]
     },
     "metadata": {
      "needs_background": "light"
     },
     "output_type": "display_data"
    }
   ],
   "source": [
    "from hsqc_dataset import *\n",
    "from tqdm import tqdm\n",
    "import json\n",
    "f = open('/root/autoencoder_denoiser/configs_baseline_selection/dann_adv_loss.json')\n",
    "config = json.load(f)\n",
    "# test_loader = DataLoader(RealNoiseDataset_Byeol(config), batch_size=2, shuffle=False, num_workers=1)\n",
    "train_loader,_,test_loader = get_datasets(config)\n",
    "import matplotlib.pyplot as plt\n",
    "\n",
    "\n",
    "import matplotlib.image\n",
    "\n",
    "clist = [(0,\"darkblue\"), (0.5,\"white\"), (1, \"darkred\")]\n",
    "custom_HSQC_cmap = matplotlib.colors.LinearSegmentedColormap.from_list(\"_\",clist)\n",
    "raw_image_collection = []\n",
    "noise_image_collection = []\n",
    "plt.rcParams[\"figure.figsize\"] = (20,10)\n",
    "for iter, data in enumerate(tqdm(train_loader)):\n",
    "    r, noise = data\n",
    "    # plt.imshow(raw[0,0],cmap=custom_HSQC_cmap, vmax=1, vmin=-1)\n",
    "    # plt.figure()\n",
    "    # plt.imshow(noise[0,0],cmap=custom_HSQC_cmap, vmax=1, vmin=-1)\n",
    "    # plt.figure()\n",
    "    # if iter == 1: break\n",
    "    raw = r[0,0]\n",
    "    plt.imshow(raw,cmap=custom_HSQC_cmap, vmax=1, vmin=-1)\n",
    "    signal_position = np.where(raw!=0)\n",
    "    signal_enhance = 1\n",
    "    for i in range(0, signal_enhance+1):\n",
    "        for j in range(0, signal_enhance+1):\n",
    "            if i==0 and j==0: continue\n",
    "            new_position = np.clip(signal_position[0]+i, 0, raw.shape[0]-1) ,  np.clip(signal_position[1]+j , 0, raw.shape[1]-1)  \n",
    "            raw[new_position] += raw[signal_position]\n",
    "plt.imshow(raw,cmap=custom_HSQC_cmap, vmax=1, vmin=-1)\n"
   ]
  },
  {
   "cell_type": "code",
   "execution_count": null,
   "metadata": {},
   "outputs": [],
   "source": []
  },
  {
   "cell_type": "code",
   "execution_count": 14,
   "metadata": {},
   "outputs": [],
   "source": [
    "\n",
    "# import matplotlib.image\n",
    "\n",
    "\n",
    "# clist = [(0,\"darkblue\"), (0.5,\"white\"), (1, \"darkred\")]\n",
    "# custom_HSQC_cmap = matplotlib.colors.LinearSegmentedColormap.from_list(\"_\",clist)\n",
    "# for iter, data in enumerate(tqdm(test_loader)):\n",
    "#     large_image, raw = data\n",
    "#     print(type(raw))\n",
    "#     print(raw.shape)\n",
    "#     plt.imshow(raw[0],cmap=custom_HSQC_cmap, vmax=1, vmin=-1)\n",
    "#     plt.figure()\n",
    "#     plt.imshow(large_image[0],cmap=custom_HSQC_cmap, vmax=1, vmin=-1)\n",
    "#     break"
   ]
  },
  {
   "cell_type": "code",
   "execution_count": 33,
   "metadata": {},
   "outputs": [
    {
     "data": {
      "text/plain": [
       "<matplotlib.image.AxesImage at 0x7f29437db1c0>"
      ]
     },
     "execution_count": 33,
     "metadata": {},
     "output_type": "execute_result"
    },
    {
     "data": {
      "image/png": "[encoded data removed]",
      "text/plain": [
       "<Figure size 1440x720 with 1 Axes>"
      ]
     },
     "metadata": {
      "needs_background": "light"
     },
     "output_type": "display_data"
    }
   ],
   "source": [
    "\n",
    "upscale_factor = 10\n",
    "large_image = cv2.resize(noise[0], (noise.shape[2]*upscale_factor,noise.shape[1]*upscale_factor), interpolation = cv2.INTER_AREA   ) \n",
    "plt.imshow(large_image,cmap=custom_HSQC_cmap, vmax=1, vmin=-1)"
   ]
  },
  {
   "cell_type": "code",
   "execution_count": 36,
   "metadata": {},
   "outputs": [
    {
     "data": {
      "text/plain": [
       "1.6831636"
      ]
     },
     "execution_count": 36,
     "metadata": {},
     "output_type": "execute_result"
    }
   ],
   "source": [
    "np.sum(noise)"
   ]
  },
  {
   "cell_type": "code",
   "execution_count": 37,
   "metadata": {},
   "outputs": [
    {
     "data": {
      "text/plain": [
       "168.31636"
      ]
     },
     "execution_count": 37,
     "metadata": {},
     "output_type": "execute_result"
    }
   ],
   "source": [
    "np.sum(large_image)"
   ]
  },
  {
   "cell_type": "code",
   "execution_count": 10,
   "metadata": {},
   "outputs": [
    {
     "data": {
      "text/plain": [
       "0"
      ]
     },
     "execution_count": 10,
     "metadata": {},
     "output_type": "execute_result"
    }
   ],
   "source": [
    "w.a"
   ]
  },
  {
   "cell_type": "code",
   "execution_count": 5,
   "metadata": {},
   "outputs": [
    {
     "data": {
      "text/plain": [
       "tensor([ 1,  2, 88,  4])"
      ]
     },
     "execution_count": 5,
     "metadata": {},
     "output_type": "execute_result"
    }
   ],
   "source": [
    "import torch\n",
    "a = torch.tensor([1,2,3,4])\n",
    "b = torch.tensor([1,2,3,4])\n",
    "k =torch.logical_and (a>2 , b<4) \n",
    "a[k] = 88\n",
    "a"
   ]
  },
  {
   "cell_type": "code",
   "execution_count": 6,
   "metadata": {},
   "outputs": [
    {
     "data": {
      "text/plain": [
       "torch.Size([5])"
      ]
     },
     "execution_count": 6,
     "metadata": {},
     "output_type": "execute_result"
    }
   ],
   "source": [
    "import torch\n",
    "a = torch.tensor([1,2,3,4,5])\n",
    "k = a.shape\n",
    "k"
   ]
  },
  {
   "cell_type": "code",
   "execution_count": 7,
   "metadata": {},
   "outputs": [
    {
     "data": {
      "text/plain": [
       "5"
      ]
     },
     "execution_count": 7,
     "metadata": {},
     "output_type": "execute_result"
    }
   ],
   "source": [
    "k[0]"
   ]
  },
  {
   "cell_type": "code",
   "execution_count": null,
   "metadata": {},
   "outputs": [],
   "source": []
  }
 ],
 "metadata": {
  "kernelspec": {
   "display_name": "base",
   "language": "python",
   "name": "python3"
  },
  "language_info": {
   "codemirror_mode": {
    "name": "ipython",
    "version": 3
   },
   "file_extension": ".py",
   "mimetype": "text/x-python",
   "name": "python",
   "nbconvert_exporter": "python",
   "pygments_lexer": "ipython3",
   "version": "3.8.12"
  },
  "orig_nbformat": 4
 },
 "nbformat": 4,
 "nbformat_minor": 2
}
